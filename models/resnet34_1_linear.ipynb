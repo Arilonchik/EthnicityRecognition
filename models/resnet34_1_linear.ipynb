{
  "cells": [
    {
      "cell_type": "code",
      "execution_count": null,
      "id": "eb801010",
      "metadata": {
        "execution": {
          "iopub.execute_input": "2022-11-10T05:52:11.590335Z",
          "iopub.status.busy": "2022-11-10T05:52:11.589841Z",
          "iopub.status.idle": "2022-11-10T05:52:11.602066Z",
          "shell.execute_reply": "2022-11-10T05:52:11.601262Z"
        },
        "papermill": {
          "duration": 0.020568,
          "end_time": "2022-11-10T05:52:11.604294",
          "exception": false,
          "start_time": "2022-11-10T05:52:11.583726",
          "status": "completed"
        },
        "tags": [],
        "id": "eb801010"
      },
      "outputs": [],
      "source": [
        "%matplotlib inline"
      ]
    },
    {
      "cell_type": "code",
      "source": [
        "from dataset_loader import gen_dataloader\n",
        "from utils import visualize_model"
      ],
      "metadata": {
        "id": "lovt7xCoX66X"
      },
      "id": "lovt7xCoX66X",
      "execution_count": null,
      "outputs": []
    },
    {
      "cell_type": "code",
      "execution_count": null,
      "id": "3fbc27ac",
      "metadata": {
        "execution": {
          "iopub.execute_input": "2022-11-10T05:52:13.829935Z",
          "iopub.status.busy": "2022-11-10T05:52:13.829674Z",
          "iopub.status.idle": "2022-11-10T05:52:14.204893Z",
          "shell.execute_reply": "2022-11-10T05:52:14.203975Z"
        },
        "papermill": {
          "duration": 0.38201,
          "end_time": "2022-11-10T05:52:14.207325",
          "exception": false,
          "start_time": "2022-11-10T05:52:13.825315",
          "status": "completed"
        },
        "tags": [],
        "id": "3fbc27ac"
      },
      "outputs": [],
      "source": [
        "from torchvision import models\n",
        "import torch\n",
        "from torchvision import transforms\n",
        "from PIL import Image\n",
        "#from dataset_loader import gen_dataloader\n",
        "import time\n",
        "import copy\n",
        "import torch.nn as nn\n",
        "import torch.optim as optim\n",
        "from torch.optim import lr_scheduler\n",
        "import os\n",
        "from torch.utils.tensorboard import SummaryWriter\n",
        "from tqdm import tqdm"
      ]
    },
    {
      "cell_type": "code",
      "execution_count": null,
      "id": "23abaf3a",
      "metadata": {
        "execution": {
          "iopub.execute_input": "2022-11-10T05:52:14.217334Z",
          "iopub.status.busy": "2022-11-10T05:52:14.215874Z",
          "iopub.status.idle": "2022-11-10T05:52:18.393656Z",
          "shell.execute_reply": "2022-11-10T05:52:18.392682Z"
        },
        "papermill": {
          "duration": 4.184836,
          "end_time": "2022-11-10T05:52:18.396053",
          "exception": false,
          "start_time": "2022-11-10T05:52:14.211217",
          "status": "completed"
        },
        "tags": [],
        "id": "23abaf3a"
      },
      "outputs": [],
      "source": [
        "writer = SummaryWriter()"
      ]
    },
    {
      "cell_type": "code",
      "execution_count": null,
      "id": "b3c2621a",
      "metadata": {
        "execution": {
          "iopub.execute_input": "2022-11-10T05:52:18.405011Z",
          "iopub.status.busy": "2022-11-10T05:52:18.404708Z",
          "iopub.status.idle": "2022-11-10T05:52:18.411020Z",
          "shell.execute_reply": "2022-11-10T05:52:18.410183Z"
        },
        "papermill": {
          "duration": 0.012855,
          "end_time": "2022-11-10T05:52:18.412872",
          "exception": false,
          "start_time": "2022-11-10T05:52:18.400017",
          "status": "completed"
        },
        "tags": [],
        "id": "b3c2621a"
      },
      "outputs": [],
      "source": [
        "writer_val = SummaryWriter()"
      ]
    },
    {
      "cell_type": "code",
      "execution_count": null,
      "id": "cd423b11",
      "metadata": {
        "execution": {
          "iopub.execute_input": "2022-11-10T05:52:18.422938Z",
          "iopub.status.busy": "2022-11-10T05:52:18.421408Z",
          "iopub.status.idle": "2022-11-10T05:52:18.427214Z",
          "shell.execute_reply": "2022-11-10T05:52:18.426403Z"
        },
        "papermill": {
          "duration": 0.01244,
          "end_time": "2022-11-10T05:52:18.429109",
          "exception": false,
          "start_time": "2022-11-10T05:52:18.416669",
          "status": "completed"
        },
        "tags": [],
        "id": "cd423b11"
      },
      "outputs": [],
      "source": [
        "train_data_path = \"../input/fairface/FairFace/train\"\n",
        "val_data_path = \"../input/fairface/FairFace/val\"\n",
        "models_path = \"./models/\"\n",
        "train_labels_path = \"../input/fairface/FairFace/train_labels.csv\"\n",
        "val_labels_path = \"../input/fairface/FairFace/val_labels.csv\""
      ]
    },
    {
      "cell_type": "code",
      "execution_count": null,
      "id": "d66b0326",
      "metadata": {
        "execution": {
          "iopub.execute_input": "2022-11-10T05:52:18.438526Z",
          "iopub.status.busy": "2022-11-10T05:52:18.437685Z",
          "iopub.status.idle": "2022-11-10T05:52:18.444049Z",
          "shell.execute_reply": "2022-11-10T05:52:18.443165Z"
        },
        "papermill": {
          "duration": 0.012991,
          "end_time": "2022-11-10T05:52:18.446021",
          "exception": false,
          "start_time": "2022-11-10T05:52:18.433030",
          "status": "completed"
        },
        "tags": [],
        "id": "d66b0326"
      },
      "outputs": [],
      "source": [
        "data_transforms = {\n",
        "    'train': transforms.Compose([\n",
        "        #transforms.ToPILImage(),\n",
        "        transforms.Resize(224), # проверить кроп \n",
        "        transforms.RandomHorizontalFlip(),\n",
        "        transforms.ToTensor(),\n",
        "        transforms.Normalize([0.485, 0.456, 0.406], [0.229, 0.224, 0.225])\n",
        "    ]),\n",
        "    'val': transforms.Compose([\n",
        "        #transforms.ToPILImage(),\n",
        "        transforms.Resize(224),\n",
        "        transforms.ToTensor(),\n",
        "        transforms.Normalize([0.485, 0.456, 0.406], [0.229, 0.224, 0.225])\n",
        "    ]),\n",
        "}"
      ]
    },
    {
      "cell_type": "code",
      "execution_count": null,
      "id": "10e6dbbe",
      "metadata": {
        "execution": {
          "iopub.execute_input": "2022-11-10T05:52:18.454467Z",
          "iopub.status.busy": "2022-11-10T05:52:18.454213Z",
          "iopub.status.idle": "2022-11-10T05:52:18.520206Z",
          "shell.execute_reply": "2022-11-10T05:52:18.519264Z"
        },
        "papermill": {
          "duration": 0.073227,
          "end_time": "2022-11-10T05:52:18.522940",
          "exception": false,
          "start_time": "2022-11-10T05:52:18.449713",
          "status": "completed"
        },
        "tags": [],
        "id": "10e6dbbe",
        "outputId": "3c7ddfdc-f416-4cb8-d690-7ea7fba70233"
      },
      "outputs": [
        {
          "data": {
            "text/plain": [
              "device(type='cuda', index=0)"
            ]
          },
          "execution_count": 9,
          "metadata": {},
          "output_type": "execute_result"
        }
      ],
      "source": [
        "device = torch.device(\"cuda:0\" if torch.cuda.is_available() else \"cpu\")\n",
        "device"
      ]
    },
    {
      "cell_type": "code",
      "execution_count": null,
      "id": "2574ee4a",
      "metadata": {
        "execution": {
          "iopub.execute_input": "2022-11-10T05:52:18.532531Z",
          "iopub.status.busy": "2022-11-10T05:52:18.531694Z",
          "iopub.status.idle": "2022-11-10T05:52:18.823469Z",
          "shell.execute_reply": "2022-11-10T05:52:18.821225Z"
        },
        "papermill": {
          "duration": 0.298742,
          "end_time": "2022-11-10T05:52:18.825629",
          "exception": false,
          "start_time": "2022-11-10T05:52:18.526887",
          "status": "completed"
        },
        "tags": [],
        "id": "2574ee4a",
        "outputId": "0e980512-e17b-42a5-c593-7b4d3c05e450"
      },
      "outputs": [
        {
          "name": "stdout",
          "output_type": "stream",
          "text": [
            "{'East Asian': 0, 'Indian': 1, 'Black': 2, 'White': 3, 'Middle Eastern': 4, 'Latino_Hispanic': 5, 'Southeast Asian': 6}\n",
            "{'East Asian': 0, 'Indian': 1, 'Black': 2, 'White': 3, 'Middle Eastern': 4, 'Latino_Hispanic': 5, 'Southeast Asian': 6}\n"
          ]
        },
        {
          "data": {
            "text/plain": [
              "{'train': 86744, 'val': 10954}"
            ]
          },
          "execution_count": 10,
          "metadata": {},
          "output_type": "execute_result"
        }
      ],
      "source": [
        "class_to_idx = make_class_to_index(train_labels_path)\n",
        "train_dataloader, train_size, classes = gen_dataloader(train_data_path, train_labels_path,\n",
        "                            transformers=data_transforms[\"train\"], batch_size=128, class_to_idx=class_to_idx)\n",
        "print(classes)\n",
        "\n",
        "test_dataloader, val_size, classes = gen_dataloader(val_data_path, val_labels_path,\n",
        "                            transformers=data_transforms[\"val\"], batch_size=128, class_to_idx=class_to_idx)\n",
        "print(classes)\n",
        "\n",
        "dataloaders = {\n",
        "    \"train\": train_dataloader,\n",
        "    \"val\": test_dataloader\n",
        "}\n",
        "dataset_sizes = {'train': train_size, 'val': val_size}\n",
        "dataset_sizes"
      ]
    },
    {
      "cell_type": "code",
      "execution_count": null,
      "id": "bbd62da1",
      "metadata": {
        "papermill": {
          "duration": 0.00385,
          "end_time": "2022-11-10T05:52:18.833755",
          "exception": false,
          "start_time": "2022-11-10T05:52:18.829905",
          "status": "completed"
        },
        "tags": [],
        "id": "bbd62da1"
      },
      "outputs": [],
      "source": []
    },
    {
      "cell_type": "code",
      "execution_count": null,
      "id": "e721a645",
      "metadata": {
        "execution": {
          "iopub.execute_input": "2022-11-10T05:52:18.842971Z",
          "iopub.status.busy": "2022-11-10T05:52:18.842674Z",
          "iopub.status.idle": "2022-11-10T05:52:24.363908Z",
          "shell.execute_reply": "2022-11-10T05:52:24.362895Z"
        },
        "papermill": {
          "duration": 5.528595,
          "end_time": "2022-11-10T05:52:24.366307",
          "exception": false,
          "start_time": "2022-11-10T05:52:18.837712",
          "status": "completed"
        },
        "tags": [],
        "colab": {
          "referenced_widgets": [
            "4a3d246900004baa9dd3ea2b97d1050d"
          ]
        },
        "id": "e721a645",
        "outputId": "f73c3ab7-2d60-4f4a-d6f7-4e0b181cb632"
      },
      "outputs": [
        {
          "name": "stderr",
          "output_type": "stream",
          "text": [
            "Downloading: \"https://download.pytorch.org/models/resnet34-b627a593.pth\" to /root/.cache/torch/hub/checkpoints/resnet34-b627a593.pth\n"
          ]
        },
        {
          "data": {
            "application/vnd.jupyter.widget-view+json": {
              "model_id": "4a3d246900004baa9dd3ea2b97d1050d",
              "version_major": 2,
              "version_minor": 0
            },
            "text/plain": [
              "  0%|          | 0.00/83.3M [00:00<?, ?B/s]"
            ]
          },
          "metadata": {},
          "output_type": "display_data"
        }
      ],
      "source": [
        "model_ft = models.resnet34(pretrained=True)\n",
        "# for param in model_ft.parameters():\n",
        "#     param.requires_grad = False\n",
        "n = model_ft.fc.in_features\n",
        "# model_ft.fc = nn.Sequential(\n",
        "#     nn.Linear(n, 128),\n",
        "#     nn.ReLU(inplace=True),\n",
        "#     nn.Linear(128, len(classes))).to(device)\n",
        "model_ft.fc = nn.Linear(model_ft.fc.in_features, len(classes))\n",
        "\n",
        "model_ft = model_ft.to(device)\n",
        "\n",
        "criterion = nn.CrossEntropyLoss()\n",
        "\n",
        "# Observe that all parameters are being optimized\n",
        "optimizer_ft = optim.Adam(model_ft.parameters(), lr=0.00009) # Проверить lr/ переделать на adam\n",
        "\n",
        "# Decay LR by a factor of 0.1 every 7 epochs\n",
        "exp_lr_scheduler = lr_scheduler.StepLR(optimizer_ft, step_size=7, gamma=0.1) # Попробовать убрать\n",
        "exp_lr_scheduler = None\n",
        "optimizer = optimizer_ft\n",
        "net = model_ft"
      ]
    },
    {
      "cell_type": "code",
      "execution_count": null,
      "id": "49237269",
      "metadata": {
        "execution": {
          "iopub.execute_input": "2022-11-10T05:52:24.378094Z",
          "iopub.status.busy": "2022-11-10T05:52:24.377812Z",
          "iopub.status.idle": "2022-11-10T08:14:10.933209Z",
          "shell.execute_reply": "2022-11-10T08:14:10.932339Z"
        },
        "papermill": {
          "duration": 8506.56377,
          "end_time": "2022-11-10T08:14:10.935721",
          "exception": false,
          "start_time": "2022-11-10T05:52:24.371951",
          "status": "completed"
        },
        "tags": [],
        "id": "49237269",
        "outputId": "8e081965-60aa-4203-9a4b-a684873d065c"
      },
      "outputs": [
        {
          "name": "stdout",
          "output_type": "stream",
          "text": [
            "Epoch 1\n",
            "\n"
          ]
        },
        {
          "name": "stderr",
          "output_type": "stream",
          "text": [
            "1it [00:08,  8.36s/it]"
          ]
        },
        {
          "name": "stdout",
          "output_type": "stream",
          "text": [
            "Epoch [1/15], Step [0/678], Loss: 2.1510\n"
          ]
        },
        {
          "name": "stderr",
          "output_type": "stream",
          "text": [
            "21it [00:45,  1.78s/it]"
          ]
        },
        {
          "name": "stdout",
          "output_type": "stream",
          "text": [
            "Epoch [1/15], Step [20/678], Loss: 1.6203\n"
          ]
        },
        {
          "name": "stderr",
          "output_type": "stream",
          "text": [
            "41it [01:21,  1.73s/it]"
          ]
        },
        {
          "name": "stdout",
          "output_type": "stream",
          "text": [
            "Epoch [1/15], Step [40/678], Loss: 1.2764\n"
          ]
        },
        {
          "name": "stderr",
          "output_type": "stream",
          "text": [
            "61it [01:56,  1.77s/it]"
          ]
        },
        {
          "name": "stdout",
          "output_type": "stream",
          "text": [
            "Epoch [1/15], Step [60/678], Loss: 1.2699\n"
          ]
        },
        {
          "name": "stderr",
          "output_type": "stream",
          "text": [
            "81it [02:32,  1.75s/it]"
          ]
        },
        {
          "name": "stdout",
          "output_type": "stream",
          "text": [
            "Epoch [1/15], Step [80/678], Loss: 1.1685\n"
          ]
        },
        {
          "name": "stderr",
          "output_type": "stream",
          "text": [
            "101it [03:07,  1.78s/it]"
          ]
        },
        {
          "name": "stdout",
          "output_type": "stream",
          "text": [
            "Epoch [1/15], Step [100/678], Loss: 1.3288\n"
          ]
        },
        {
          "name": "stderr",
          "output_type": "stream",
          "text": [
            "121it [03:43,  1.79s/it]"
          ]
        },
        {
          "name": "stdout",
          "output_type": "stream",
          "text": [
            "Epoch [1/15], Step [120/678], Loss: 1.2453\n"
          ]
        },
        {
          "name": "stderr",
          "output_type": "stream",
          "text": [
            "141it [04:18,  1.74s/it]"
          ]
        },
        {
          "name": "stdout",
          "output_type": "stream",
          "text": [
            "Epoch [1/15], Step [140/678], Loss: 1.0401\n"
          ]
        },
        {
          "name": "stderr",
          "output_type": "stream",
          "text": [
            "161it [04:53,  1.74s/it]"
          ]
        },
        {
          "name": "stdout",
          "output_type": "stream",
          "text": [
            "Epoch [1/15], Step [160/678], Loss: 1.0394\n"
          ]
        },
        {
          "name": "stderr",
          "output_type": "stream",
          "text": [
            "181it [05:29,  1.80s/it]"
          ]
        },
        {
          "name": "stdout",
          "output_type": "stream",
          "text": [
            "Epoch [1/15], Step [180/678], Loss: 1.1161\n"
          ]
        },
        {
          "name": "stderr",
          "output_type": "stream",
          "text": [
            "201it [06:06,  1.81s/it]"
          ]
        },
        {
          "name": "stdout",
          "output_type": "stream",
          "text": [
            "Epoch [1/15], Step [200/678], Loss: 1.0883\n"
          ]
        },
        {
          "name": "stderr",
          "output_type": "stream",
          "text": [
            "221it [06:41,  1.74s/it]"
          ]
        },
        {
          "name": "stdout",
          "output_type": "stream",
          "text": [
            "Epoch [1/15], Step [220/678], Loss: 0.9615\n"
          ]
        },
        {
          "name": "stderr",
          "output_type": "stream",
          "text": [
            "241it [07:16,  1.74s/it]"
          ]
        },
        {
          "name": "stdout",
          "output_type": "stream",
          "text": [
            "Epoch [1/15], Step [240/678], Loss: 1.0793\n"
          ]
        },
        {
          "name": "stderr",
          "output_type": "stream",
          "text": [
            "261it [07:52,  1.88s/it]"
          ]
        },
        {
          "name": "stdout",
          "output_type": "stream",
          "text": [
            "Epoch [1/15], Step [260/678], Loss: 1.0214\n"
          ]
        },
        {
          "name": "stderr",
          "output_type": "stream",
          "text": [
            "281it [08:28,  1.74s/it]"
          ]
        },
        {
          "name": "stdout",
          "output_type": "stream",
          "text": [
            "Epoch [1/15], Step [280/678], Loss: 1.0132\n"
          ]
        },
        {
          "name": "stderr",
          "output_type": "stream",
          "text": [
            "301it [09:03,  1.75s/it]"
          ]
        },
        {
          "name": "stdout",
          "output_type": "stream",
          "text": [
            "Epoch [1/15], Step [300/678], Loss: 1.0610\n"
          ]
        },
        {
          "name": "stderr",
          "output_type": "stream",
          "text": [
            "321it [09:38,  1.84s/it]"
          ]
        },
        {
          "name": "stdout",
          "output_type": "stream",
          "text": [
            "Epoch [1/15], Step [320/678], Loss: 1.0204\n"
          ]
        },
        {
          "name": "stderr",
          "output_type": "stream",
          "text": [
            "341it [10:14,  1.81s/it]"
          ]
        },
        {
          "name": "stdout",
          "output_type": "stream",
          "text": [
            "Epoch [1/15], Step [340/678], Loss: 0.9218\n"
          ]
        },
        {
          "name": "stderr",
          "output_type": "stream",
          "text": [
            "361it [10:51,  1.90s/it]"
          ]
        },
        {
          "name": "stdout",
          "output_type": "stream",
          "text": [
            "Epoch [1/15], Step [360/678], Loss: 0.9288\n"
          ]
        },
        {
          "name": "stderr",
          "output_type": "stream",
          "text": [
            "381it [11:27,  1.77s/it]"
          ]
        },
        {
          "name": "stdout",
          "output_type": "stream",
          "text": [
            "Epoch [1/15], Step [380/678], Loss: 0.9539\n"
          ]
        },
        {
          "name": "stderr",
          "output_type": "stream",
          "text": [
            "401it [12:03,  1.86s/it]"
          ]
        },
        {
          "name": "stdout",
          "output_type": "stream",
          "text": [
            "Epoch [1/15], Step [400/678], Loss: 1.0057\n"
          ]
        },
        {
          "name": "stderr",
          "output_type": "stream",
          "text": [
            "421it [12:39,  1.77s/it]"
          ]
        },
        {
          "name": "stdout",
          "output_type": "stream",
          "text": [
            "Epoch [1/15], Step [420/678], Loss: 0.9859\n"
          ]
        },
        {
          "name": "stderr",
          "output_type": "stream",
          "text": [
            "441it [13:14,  1.78s/it]"
          ]
        },
        {
          "name": "stdout",
          "output_type": "stream",
          "text": [
            "Epoch [1/15], Step [440/678], Loss: 1.0935\n"
          ]
        },
        {
          "name": "stderr",
          "output_type": "stream",
          "text": [
            "461it [13:50,  1.77s/it]"
          ]
        },
        {
          "name": "stdout",
          "output_type": "stream",
          "text": [
            "Epoch [1/15], Step [460/678], Loss: 0.9132\n"
          ]
        },
        {
          "name": "stderr",
          "output_type": "stream",
          "text": [
            "481it [14:25,  1.74s/it]"
          ]
        },
        {
          "name": "stdout",
          "output_type": "stream",
          "text": [
            "Epoch [1/15], Step [480/678], Loss: 0.8256\n"
          ]
        },
        {
          "name": "stderr",
          "output_type": "stream",
          "text": [
            "501it [15:00,  1.78s/it]"
          ]
        },
        {
          "name": "stdout",
          "output_type": "stream",
          "text": [
            "Epoch [1/15], Step [500/678], Loss: 0.8878\n"
          ]
        },
        {
          "name": "stderr",
          "output_type": "stream",
          "text": [
            "521it [15:34,  1.75s/it]"
          ]
        },
        {
          "name": "stdout",
          "output_type": "stream",
          "text": [
            "Epoch [1/15], Step [520/678], Loss: 0.9178\n"
          ]
        },
        {
          "name": "stderr",
          "output_type": "stream",
          "text": [
            "541it [16:09,  1.71s/it]"
          ]
        },
        {
          "name": "stdout",
          "output_type": "stream",
          "text": [
            "Epoch [1/15], Step [540/678], Loss: 0.9103\n"
          ]
        },
        {
          "name": "stderr",
          "output_type": "stream",
          "text": [
            "561it [16:44,  1.74s/it]"
          ]
        },
        {
          "name": "stdout",
          "output_type": "stream",
          "text": [
            "Epoch [1/15], Step [560/678], Loss: 1.0639\n"
          ]
        },
        {
          "name": "stderr",
          "output_type": "stream",
          "text": [
            "581it [17:18,  1.73s/it]"
          ]
        },
        {
          "name": "stdout",
          "output_type": "stream",
          "text": [
            "Epoch [1/15], Step [580/678], Loss: 0.9833\n"
          ]
        },
        {
          "name": "stderr",
          "output_type": "stream",
          "text": [
            "601it [17:53,  1.71s/it]"
          ]
        },
        {
          "name": "stdout",
          "output_type": "stream",
          "text": [
            "Epoch [1/15], Step [600/678], Loss: 0.7843\n"
          ]
        },
        {
          "name": "stderr",
          "output_type": "stream",
          "text": [
            "621it [18:27,  1.71s/it]"
          ]
        },
        {
          "name": "stdout",
          "output_type": "stream",
          "text": [
            "Epoch [1/15], Step [620/678], Loss: 0.9696\n"
          ]
        },
        {
          "name": "stderr",
          "output_type": "stream",
          "text": [
            "641it [19:02,  1.73s/it]"
          ]
        },
        {
          "name": "stdout",
          "output_type": "stream",
          "text": [
            "Epoch [1/15], Step [640/678], Loss: 1.0477\n"
          ]
        },
        {
          "name": "stderr",
          "output_type": "stream",
          "text": [
            "661it [19:37,  1.78s/it]"
          ]
        },
        {
          "name": "stdout",
          "output_type": "stream",
          "text": [
            "Epoch [1/15], Step [660/678], Loss: 0.9617\n"
          ]
        },
        {
          "name": "stderr",
          "output_type": "stream",
          "text": [
            "678it [20:06,  1.78s/it]\n"
          ]
        },
        {
          "name": "stdout",
          "output_type": "stream",
          "text": [
            "\n",
            "train-loss: 1.0359, train-acc: 60.3396\n"
          ]
        },
        {
          "name": "stderr",
          "output_type": "stream",
          "text": [
            "100%|██████████| 86/86 [02:11<00:00,  1.53s/it]\n"
          ]
        },
        {
          "name": "stdout",
          "output_type": "stream",
          "text": [
            "validation loss: 0.8937, validation acc: 65.6838\n",
            "\n",
            "Improvement-Detected, save-model\n",
            "Epoch 2\n",
            "\n"
          ]
        },
        {
          "name": "stderr",
          "output_type": "stream",
          "text": [
            "1it [00:00,  1.43it/s]"
          ]
        },
        {
          "name": "stdout",
          "output_type": "stream",
          "text": [
            "Epoch [2/15], Step [0/678], Loss: 0.8636\n"
          ]
        },
        {
          "name": "stderr",
          "output_type": "stream",
          "text": [
            "21it [00:14,  1.47it/s]"
          ]
        },
        {
          "name": "stdout",
          "output_type": "stream",
          "text": [
            "Epoch [2/15], Step [20/678], Loss: 0.6637\n"
          ]
        },
        {
          "name": "stderr",
          "output_type": "stream",
          "text": [
            "41it [00:28,  1.41it/s]"
          ]
        },
        {
          "name": "stdout",
          "output_type": "stream",
          "text": [
            "Epoch [2/15], Step [40/678], Loss: 0.9148\n"
          ]
        },
        {
          "name": "stderr",
          "output_type": "stream",
          "text": [
            "61it [00:42,  1.42it/s]"
          ]
        },
        {
          "name": "stdout",
          "output_type": "stream",
          "text": [
            "Epoch [2/15], Step [60/678], Loss: 0.7393\n"
          ]
        },
        {
          "name": "stderr",
          "output_type": "stream",
          "text": [
            "81it [00:55,  1.49it/s]"
          ]
        },
        {
          "name": "stdout",
          "output_type": "stream",
          "text": [
            "Epoch [2/15], Step [80/678], Loss: 0.8356\n"
          ]
        },
        {
          "name": "stderr",
          "output_type": "stream",
          "text": [
            "101it [01:09,  1.49it/s]"
          ]
        },
        {
          "name": "stdout",
          "output_type": "stream",
          "text": [
            "Epoch [2/15], Step [100/678], Loss: 0.8916\n"
          ]
        },
        {
          "name": "stderr",
          "output_type": "stream",
          "text": [
            "121it [01:23,  1.37it/s]"
          ]
        },
        {
          "name": "stdout",
          "output_type": "stream",
          "text": [
            "Epoch [2/15], Step [120/678], Loss: 0.8683\n"
          ]
        },
        {
          "name": "stderr",
          "output_type": "stream",
          "text": [
            "141it [01:37,  1.46it/s]"
          ]
        },
        {
          "name": "stdout",
          "output_type": "stream",
          "text": [
            "Epoch [2/15], Step [140/678], Loss: 0.8144\n"
          ]
        },
        {
          "name": "stderr",
          "output_type": "stream",
          "text": [
            "161it [01:50,  1.50it/s]"
          ]
        },
        {
          "name": "stdout",
          "output_type": "stream",
          "text": [
            "Epoch [2/15], Step [160/678], Loss: 0.6705\n"
          ]
        },
        {
          "name": "stderr",
          "output_type": "stream",
          "text": [
            "181it [02:04,  1.37it/s]"
          ]
        },
        {
          "name": "stdout",
          "output_type": "stream",
          "text": [
            "Epoch [2/15], Step [180/678], Loss: 0.8370\n"
          ]
        },
        {
          "name": "stderr",
          "output_type": "stream",
          "text": [
            "201it [02:18,  1.43it/s]"
          ]
        },
        {
          "name": "stdout",
          "output_type": "stream",
          "text": [
            "Epoch [2/15], Step [200/678], Loss: 0.8597\n"
          ]
        },
        {
          "name": "stderr",
          "output_type": "stream",
          "text": [
            "221it [02:32,  1.42it/s]"
          ]
        },
        {
          "name": "stdout",
          "output_type": "stream",
          "text": [
            "Epoch [2/15], Step [220/678], Loss: 0.7451\n"
          ]
        },
        {
          "name": "stderr",
          "output_type": "stream",
          "text": [
            "241it [02:46,  1.47it/s]"
          ]
        },
        {
          "name": "stdout",
          "output_type": "stream",
          "text": [
            "Epoch [2/15], Step [240/678], Loss: 0.7830\n"
          ]
        },
        {
          "name": "stderr",
          "output_type": "stream",
          "text": [
            "261it [02:59,  1.49it/s]"
          ]
        },
        {
          "name": "stdout",
          "output_type": "stream",
          "text": [
            "Epoch [2/15], Step [260/678], Loss: 0.7809\n"
          ]
        },
        {
          "name": "stderr",
          "output_type": "stream",
          "text": [
            "281it [03:13,  1.43it/s]"
          ]
        },
        {
          "name": "stdout",
          "output_type": "stream",
          "text": [
            "Epoch [2/15], Step [280/678], Loss: 0.7651\n"
          ]
        },
        {
          "name": "stderr",
          "output_type": "stream",
          "text": [
            "301it [03:26,  1.47it/s]"
          ]
        },
        {
          "name": "stdout",
          "output_type": "stream",
          "text": [
            "Epoch [2/15], Step [300/678], Loss: 0.7682\n"
          ]
        },
        {
          "name": "stderr",
          "output_type": "stream",
          "text": [
            "321it [03:40,  1.42it/s]"
          ]
        },
        {
          "name": "stdout",
          "output_type": "stream",
          "text": [
            "Epoch [2/15], Step [320/678], Loss: 0.8087\n"
          ]
        },
        {
          "name": "stderr",
          "output_type": "stream",
          "text": [
            "341it [03:54,  1.50it/s]"
          ]
        },
        {
          "name": "stdout",
          "output_type": "stream",
          "text": [
            "Epoch [2/15], Step [340/678], Loss: 0.8273\n"
          ]
        },
        {
          "name": "stderr",
          "output_type": "stream",
          "text": [
            "361it [04:07,  1.48it/s]"
          ]
        },
        {
          "name": "stdout",
          "output_type": "stream",
          "text": [
            "Epoch [2/15], Step [360/678], Loss: 0.8266\n"
          ]
        },
        {
          "name": "stderr",
          "output_type": "stream",
          "text": [
            "381it [04:21,  1.42it/s]"
          ]
        },
        {
          "name": "stdout",
          "output_type": "stream",
          "text": [
            "Epoch [2/15], Step [380/678], Loss: 0.7494\n"
          ]
        },
        {
          "name": "stderr",
          "output_type": "stream",
          "text": [
            "401it [04:35,  1.49it/s]"
          ]
        },
        {
          "name": "stdout",
          "output_type": "stream",
          "text": [
            "Epoch [2/15], Step [400/678], Loss: 0.5952\n"
          ]
        },
        {
          "name": "stderr",
          "output_type": "stream",
          "text": [
            "421it [04:48,  1.49it/s]"
          ]
        },
        {
          "name": "stdout",
          "output_type": "stream",
          "text": [
            "Epoch [2/15], Step [420/678], Loss: 0.7314\n"
          ]
        },
        {
          "name": "stderr",
          "output_type": "stream",
          "text": [
            "441it [05:02,  1.45it/s]"
          ]
        },
        {
          "name": "stdout",
          "output_type": "stream",
          "text": [
            "Epoch [2/15], Step [440/678], Loss: 0.9182\n"
          ]
        },
        {
          "name": "stderr",
          "output_type": "stream",
          "text": [
            "461it [05:16,  1.43it/s]"
          ]
        },
        {
          "name": "stdout",
          "output_type": "stream",
          "text": [
            "Epoch [2/15], Step [460/678], Loss: 0.9227\n"
          ]
        },
        {
          "name": "stderr",
          "output_type": "stream",
          "text": [
            "481it [05:30,  1.48it/s]"
          ]
        },
        {
          "name": "stdout",
          "output_type": "stream",
          "text": [
            "Epoch [2/15], Step [480/678], Loss: 0.6749\n"
          ]
        },
        {
          "name": "stderr",
          "output_type": "stream",
          "text": [
            "501it [05:43,  1.48it/s]"
          ]
        },
        {
          "name": "stdout",
          "output_type": "stream",
          "text": [
            "Epoch [2/15], Step [500/678], Loss: 0.6366\n"
          ]
        },
        {
          "name": "stderr",
          "output_type": "stream",
          "text": [
            "521it [05:57,  1.48it/s]"
          ]
        },
        {
          "name": "stdout",
          "output_type": "stream",
          "text": [
            "Epoch [2/15], Step [520/678], Loss: 0.7680\n"
          ]
        },
        {
          "name": "stderr",
          "output_type": "stream",
          "text": [
            "541it [06:11,  1.46it/s]"
          ]
        },
        {
          "name": "stdout",
          "output_type": "stream",
          "text": [
            "Epoch [2/15], Step [540/678], Loss: 0.7680\n"
          ]
        },
        {
          "name": "stderr",
          "output_type": "stream",
          "text": [
            "561it [06:24,  1.49it/s]"
          ]
        },
        {
          "name": "stdout",
          "output_type": "stream",
          "text": [
            "Epoch [2/15], Step [560/678], Loss: 0.9687\n"
          ]
        },
        {
          "name": "stderr",
          "output_type": "stream",
          "text": [
            "581it [06:38,  1.49it/s]"
          ]
        },
        {
          "name": "stdout",
          "output_type": "stream",
          "text": [
            "Epoch [2/15], Step [580/678], Loss: 0.7741\n"
          ]
        },
        {
          "name": "stderr",
          "output_type": "stream",
          "text": [
            "601it [06:52,  1.46it/s]"
          ]
        },
        {
          "name": "stdout",
          "output_type": "stream",
          "text": [
            "Epoch [2/15], Step [600/678], Loss: 0.6180\n"
          ]
        },
        {
          "name": "stderr",
          "output_type": "stream",
          "text": [
            "621it [07:05,  1.46it/s]"
          ]
        },
        {
          "name": "stdout",
          "output_type": "stream",
          "text": [
            "Epoch [2/15], Step [620/678], Loss: 0.7267\n"
          ]
        },
        {
          "name": "stderr",
          "output_type": "stream",
          "text": [
            "641it [07:19,  1.40it/s]"
          ]
        },
        {
          "name": "stdout",
          "output_type": "stream",
          "text": [
            "Epoch [2/15], Step [640/678], Loss: 0.8997\n"
          ]
        },
        {
          "name": "stderr",
          "output_type": "stream",
          "text": [
            "661it [07:33,  1.47it/s]"
          ]
        },
        {
          "name": "stdout",
          "output_type": "stream",
          "text": [
            "Epoch [2/15], Step [660/678], Loss: 0.8448\n"
          ]
        },
        {
          "name": "stderr",
          "output_type": "stream",
          "text": [
            "678it [07:44,  1.46it/s]\n"
          ]
        },
        {
          "name": "stdout",
          "output_type": "stream",
          "text": [
            "\n",
            "train-loss: 0.9135, train-acc: 70.2008\n"
          ]
        },
        {
          "name": "stderr",
          "output_type": "stream",
          "text": [
            "100%|██████████| 86/86 [00:39<00:00,  2.18it/s]\n"
          ]
        },
        {
          "name": "stdout",
          "output_type": "stream",
          "text": [
            "validation loss: 0.8689, validation acc: 68.2856\n",
            "\n",
            "Improvement-Detected, save-model\n",
            "Epoch 3\n",
            "\n"
          ]
        },
        {
          "name": "stderr",
          "output_type": "stream",
          "text": [
            "1it [00:00,  1.51it/s]"
          ]
        },
        {
          "name": "stdout",
          "output_type": "stream",
          "text": [
            "Epoch [3/15], Step [0/678], Loss: 0.7452\n"
          ]
        },
        {
          "name": "stderr",
          "output_type": "stream",
          "text": [
            "21it [00:14,  1.51it/s]"
          ]
        },
        {
          "name": "stdout",
          "output_type": "stream",
          "text": [
            "Epoch [3/15], Step [20/678], Loss: 0.5897\n"
          ]
        },
        {
          "name": "stderr",
          "output_type": "stream",
          "text": [
            "41it [00:27,  1.49it/s]"
          ]
        },
        {
          "name": "stdout",
          "output_type": "stream",
          "text": [
            "Epoch [3/15], Step [40/678], Loss: 0.7404\n"
          ]
        },
        {
          "name": "stderr",
          "output_type": "stream",
          "text": [
            "61it [00:41,  1.45it/s]"
          ]
        },
        {
          "name": "stdout",
          "output_type": "stream",
          "text": [
            "Epoch [3/15], Step [60/678], Loss: 0.6325\n"
          ]
        },
        {
          "name": "stderr",
          "output_type": "stream",
          "text": [
            "81it [00:55,  1.46it/s]"
          ]
        },
        {
          "name": "stdout",
          "output_type": "stream",
          "text": [
            "Epoch [3/15], Step [80/678], Loss: 0.5759\n"
          ]
        },
        {
          "name": "stderr",
          "output_type": "stream",
          "text": [
            "101it [01:09,  1.45it/s]"
          ]
        },
        {
          "name": "stdout",
          "output_type": "stream",
          "text": [
            "Epoch [3/15], Step [100/678], Loss: 0.6328\n"
          ]
        },
        {
          "name": "stderr",
          "output_type": "stream",
          "text": [
            "121it [01:22,  1.49it/s]"
          ]
        },
        {
          "name": "stdout",
          "output_type": "stream",
          "text": [
            "Epoch [3/15], Step [120/678], Loss: 0.7547\n"
          ]
        },
        {
          "name": "stderr",
          "output_type": "stream",
          "text": [
            "141it [01:36,  1.40it/s]"
          ]
        },
        {
          "name": "stdout",
          "output_type": "stream",
          "text": [
            "Epoch [3/15], Step [140/678], Loss: 0.5327\n"
          ]
        },
        {
          "name": "stderr",
          "output_type": "stream",
          "text": [
            "161it [01:49,  1.50it/s]"
          ]
        },
        {
          "name": "stdout",
          "output_type": "stream",
          "text": [
            "Epoch [3/15], Step [160/678], Loss: 0.7126\n"
          ]
        },
        {
          "name": "stderr",
          "output_type": "stream",
          "text": [
            "181it [02:03,  1.43it/s]"
          ]
        },
        {
          "name": "stdout",
          "output_type": "stream",
          "text": [
            "Epoch [3/15], Step [180/678], Loss: 0.6038\n"
          ]
        },
        {
          "name": "stderr",
          "output_type": "stream",
          "text": [
            "201it [02:17,  1.49it/s]"
          ]
        },
        {
          "name": "stdout",
          "output_type": "stream",
          "text": [
            "Epoch [3/15], Step [200/678], Loss: 0.6509\n"
          ]
        },
        {
          "name": "stderr",
          "output_type": "stream",
          "text": [
            "221it [02:31,  1.39it/s]"
          ]
        },
        {
          "name": "stdout",
          "output_type": "stream",
          "text": [
            "Epoch [3/15], Step [220/678], Loss: 0.6491\n"
          ]
        },
        {
          "name": "stderr",
          "output_type": "stream",
          "text": [
            "241it [02:45,  1.44it/s]"
          ]
        },
        {
          "name": "stdout",
          "output_type": "stream",
          "text": [
            "Epoch [3/15], Step [240/678], Loss: 0.7304\n"
          ]
        },
        {
          "name": "stderr",
          "output_type": "stream",
          "text": [
            "261it [02:59,  1.43it/s]"
          ]
        },
        {
          "name": "stdout",
          "output_type": "stream",
          "text": [
            "Epoch [3/15], Step [260/678], Loss: 0.5261\n"
          ]
        },
        {
          "name": "stderr",
          "output_type": "stream",
          "text": [
            "281it [03:13,  1.47it/s]"
          ]
        },
        {
          "name": "stdout",
          "output_type": "stream",
          "text": [
            "Epoch [3/15], Step [280/678], Loss: 0.8239\n"
          ]
        },
        {
          "name": "stderr",
          "output_type": "stream",
          "text": [
            "301it [03:27,  1.40it/s]"
          ]
        },
        {
          "name": "stdout",
          "output_type": "stream",
          "text": [
            "Epoch [3/15], Step [300/678], Loss: 0.6174\n"
          ]
        },
        {
          "name": "stderr",
          "output_type": "stream",
          "text": [
            "321it [03:41,  1.37it/s]"
          ]
        },
        {
          "name": "stdout",
          "output_type": "stream",
          "text": [
            "Epoch [3/15], Step [320/678], Loss: 0.7236\n"
          ]
        },
        {
          "name": "stderr",
          "output_type": "stream",
          "text": [
            "341it [03:55,  1.40it/s]"
          ]
        },
        {
          "name": "stdout",
          "output_type": "stream",
          "text": [
            "Epoch [3/15], Step [340/678], Loss: 0.5899\n"
          ]
        },
        {
          "name": "stderr",
          "output_type": "stream",
          "text": [
            "361it [04:09,  1.46it/s]"
          ]
        },
        {
          "name": "stdout",
          "output_type": "stream",
          "text": [
            "Epoch [3/15], Step [360/678], Loss: 0.5805\n"
          ]
        },
        {
          "name": "stderr",
          "output_type": "stream",
          "text": [
            "381it [04:23,  1.45it/s]"
          ]
        },
        {
          "name": "stdout",
          "output_type": "stream",
          "text": [
            "Epoch [3/15], Step [380/678], Loss: 0.5687\n"
          ]
        },
        {
          "name": "stderr",
          "output_type": "stream",
          "text": [
            "401it [04:36,  1.48it/s]"
          ]
        },
        {
          "name": "stdout",
          "output_type": "stream",
          "text": [
            "Epoch [3/15], Step [400/678], Loss: 0.6353\n"
          ]
        },
        {
          "name": "stderr",
          "output_type": "stream",
          "text": [
            "421it [04:50,  1.50it/s]"
          ]
        },
        {
          "name": "stdout",
          "output_type": "stream",
          "text": [
            "Epoch [3/15], Step [420/678], Loss: 0.5371\n"
          ]
        },
        {
          "name": "stderr",
          "output_type": "stream",
          "text": [
            "441it [05:04,  1.50it/s]"
          ]
        },
        {
          "name": "stdout",
          "output_type": "stream",
          "text": [
            "Epoch [3/15], Step [440/678], Loss: 0.8195\n"
          ]
        },
        {
          "name": "stderr",
          "output_type": "stream",
          "text": [
            "461it [05:17,  1.44it/s]"
          ]
        },
        {
          "name": "stdout",
          "output_type": "stream",
          "text": [
            "Epoch [3/15], Step [460/678], Loss: 0.6377\n"
          ]
        },
        {
          "name": "stderr",
          "output_type": "stream",
          "text": [
            "481it [05:31,  1.47it/s]"
          ]
        },
        {
          "name": "stdout",
          "output_type": "stream",
          "text": [
            "Epoch [3/15], Step [480/678], Loss: 0.8300\n"
          ]
        },
        {
          "name": "stderr",
          "output_type": "stream",
          "text": [
            "501it [05:44,  1.50it/s]"
          ]
        },
        {
          "name": "stdout",
          "output_type": "stream",
          "text": [
            "Epoch [3/15], Step [500/678], Loss: 0.7850\n"
          ]
        },
        {
          "name": "stderr",
          "output_type": "stream",
          "text": [
            "521it [05:58,  1.49it/s]"
          ]
        },
        {
          "name": "stdout",
          "output_type": "stream",
          "text": [
            "Epoch [3/15], Step [520/678], Loss: 0.7387\n"
          ]
        },
        {
          "name": "stderr",
          "output_type": "stream",
          "text": [
            "541it [06:12,  1.45it/s]"
          ]
        },
        {
          "name": "stdout",
          "output_type": "stream",
          "text": [
            "Epoch [3/15], Step [540/678], Loss: 0.8300\n"
          ]
        },
        {
          "name": "stderr",
          "output_type": "stream",
          "text": [
            "561it [06:25,  1.48it/s]"
          ]
        },
        {
          "name": "stdout",
          "output_type": "stream",
          "text": [
            "Epoch [3/15], Step [560/678], Loss: 0.6985\n"
          ]
        },
        {
          "name": "stderr",
          "output_type": "stream",
          "text": [
            "581it [06:39,  1.48it/s]"
          ]
        },
        {
          "name": "stdout",
          "output_type": "stream",
          "text": [
            "Epoch [3/15], Step [580/678], Loss: 0.7241\n"
          ]
        },
        {
          "name": "stderr",
          "output_type": "stream",
          "text": [
            "601it [06:53,  1.48it/s]"
          ]
        },
        {
          "name": "stdout",
          "output_type": "stream",
          "text": [
            "Epoch [3/15], Step [600/678], Loss: 0.6404\n"
          ]
        },
        {
          "name": "stderr",
          "output_type": "stream",
          "text": [
            "621it [07:06,  1.47it/s]"
          ]
        },
        {
          "name": "stdout",
          "output_type": "stream",
          "text": [
            "Epoch [3/15], Step [620/678], Loss: 0.7949\n"
          ]
        },
        {
          "name": "stderr",
          "output_type": "stream",
          "text": [
            "641it [07:20,  1.40it/s]"
          ]
        },
        {
          "name": "stdout",
          "output_type": "stream",
          "text": [
            "Epoch [3/15], Step [640/678], Loss: 0.6992\n"
          ]
        },
        {
          "name": "stderr",
          "output_type": "stream",
          "text": [
            "661it [07:34,  1.47it/s]"
          ]
        },
        {
          "name": "stdout",
          "output_type": "stream",
          "text": [
            "Epoch [3/15], Step [660/678], Loss: 0.6979\n"
          ]
        },
        {
          "name": "stderr",
          "output_type": "stream",
          "text": [
            "678it [07:45,  1.46it/s]\n"
          ]
        },
        {
          "name": "stdout",
          "output_type": "stream",
          "text": [
            "\n",
            "train-loss: 0.8373, train-acc: 74.2864\n"
          ]
        },
        {
          "name": "stderr",
          "output_type": "stream",
          "text": [
            "100%|██████████| 86/86 [00:39<00:00,  2.20it/s]\n"
          ]
        },
        {
          "name": "stdout",
          "output_type": "stream",
          "text": [
            "validation loss: 0.8597, validation acc: 68.4590\n",
            "\n",
            "Improvement-Detected, save-model\n",
            "Epoch 4\n",
            "\n"
          ]
        },
        {
          "name": "stderr",
          "output_type": "stream",
          "text": [
            "1it [00:00,  1.51it/s]"
          ]
        },
        {
          "name": "stdout",
          "output_type": "stream",
          "text": [
            "Epoch [4/15], Step [0/678], Loss: 0.6134\n"
          ]
        },
        {
          "name": "stderr",
          "output_type": "stream",
          "text": [
            "21it [00:14,  1.50it/s]"
          ]
        },
        {
          "name": "stdout",
          "output_type": "stream",
          "text": [
            "Epoch [4/15], Step [20/678], Loss: 0.5392\n"
          ]
        },
        {
          "name": "stderr",
          "output_type": "stream",
          "text": [
            "41it [00:27,  1.49it/s]"
          ]
        },
        {
          "name": "stdout",
          "output_type": "stream",
          "text": [
            "Epoch [4/15], Step [40/678], Loss: 0.5970\n"
          ]
        },
        {
          "name": "stderr",
          "output_type": "stream",
          "text": [
            "61it [00:41,  1.40it/s]"
          ]
        },
        {
          "name": "stdout",
          "output_type": "stream",
          "text": [
            "Epoch [4/15], Step [60/678], Loss: 0.4622\n"
          ]
        },
        {
          "name": "stderr",
          "output_type": "stream",
          "text": [
            "81it [00:55,  1.44it/s]"
          ]
        },
        {
          "name": "stdout",
          "output_type": "stream",
          "text": [
            "Epoch [4/15], Step [80/678], Loss: 0.6314\n"
          ]
        },
        {
          "name": "stderr",
          "output_type": "stream",
          "text": [
            "101it [01:09,  1.50it/s]"
          ]
        },
        {
          "name": "stdout",
          "output_type": "stream",
          "text": [
            "Epoch [4/15], Step [100/678], Loss: 0.5626\n"
          ]
        },
        {
          "name": "stderr",
          "output_type": "stream",
          "text": [
            "121it [01:23,  1.49it/s]"
          ]
        },
        {
          "name": "stdout",
          "output_type": "stream",
          "text": [
            "Epoch [4/15], Step [120/678], Loss: 0.5457\n"
          ]
        },
        {
          "name": "stderr",
          "output_type": "stream",
          "text": [
            "141it [01:36,  1.41it/s]"
          ]
        },
        {
          "name": "stdout",
          "output_type": "stream",
          "text": [
            "Epoch [4/15], Step [140/678], Loss: 0.5431\n"
          ]
        },
        {
          "name": "stderr",
          "output_type": "stream",
          "text": [
            "161it [01:50,  1.47it/s]"
          ]
        },
        {
          "name": "stdout",
          "output_type": "stream",
          "text": [
            "Epoch [4/15], Step [160/678], Loss: 0.6634\n"
          ]
        },
        {
          "name": "stderr",
          "output_type": "stream",
          "text": [
            "181it [02:03,  1.46it/s]"
          ]
        },
        {
          "name": "stdout",
          "output_type": "stream",
          "text": [
            "Epoch [4/15], Step [180/678], Loss: 0.5005\n"
          ]
        },
        {
          "name": "stderr",
          "output_type": "stream",
          "text": [
            "201it [02:17,  1.48it/s]"
          ]
        },
        {
          "name": "stdout",
          "output_type": "stream",
          "text": [
            "Epoch [4/15], Step [200/678], Loss: 0.5580\n"
          ]
        },
        {
          "name": "stderr",
          "output_type": "stream",
          "text": [
            "221it [02:31,  1.48it/s]"
          ]
        },
        {
          "name": "stdout",
          "output_type": "stream",
          "text": [
            "Epoch [4/15], Step [220/678], Loss: 0.7057\n"
          ]
        },
        {
          "name": "stderr",
          "output_type": "stream",
          "text": [
            "241it [02:44,  1.45it/s]"
          ]
        },
        {
          "name": "stdout",
          "output_type": "stream",
          "text": [
            "Epoch [4/15], Step [240/678], Loss: 0.5640\n"
          ]
        },
        {
          "name": "stderr",
          "output_type": "stream",
          "text": [
            "261it [02:58,  1.49it/s]"
          ]
        },
        {
          "name": "stdout",
          "output_type": "stream",
          "text": [
            "Epoch [4/15], Step [260/678], Loss: 0.6438\n"
          ]
        },
        {
          "name": "stderr",
          "output_type": "stream",
          "text": [
            "281it [03:11,  1.50it/s]"
          ]
        },
        {
          "name": "stdout",
          "output_type": "stream",
          "text": [
            "Epoch [4/15], Step [280/678], Loss: 0.5042\n"
          ]
        },
        {
          "name": "stderr",
          "output_type": "stream",
          "text": [
            "301it [03:25,  1.49it/s]"
          ]
        },
        {
          "name": "stdout",
          "output_type": "stream",
          "text": [
            "Epoch [4/15], Step [300/678], Loss: 0.6174\n"
          ]
        },
        {
          "name": "stderr",
          "output_type": "stream",
          "text": [
            "321it [03:39,  1.38it/s]"
          ]
        },
        {
          "name": "stdout",
          "output_type": "stream",
          "text": [
            "Epoch [4/15], Step [320/678], Loss: 0.5246\n"
          ]
        },
        {
          "name": "stderr",
          "output_type": "stream",
          "text": [
            "341it [03:53,  1.45it/s]"
          ]
        },
        {
          "name": "stdout",
          "output_type": "stream",
          "text": [
            "Epoch [4/15], Step [340/678], Loss: 0.6943\n"
          ]
        },
        {
          "name": "stderr",
          "output_type": "stream",
          "text": [
            "361it [04:06,  1.47it/s]"
          ]
        },
        {
          "name": "stdout",
          "output_type": "stream",
          "text": [
            "Epoch [4/15], Step [360/678], Loss: 0.6512\n"
          ]
        },
        {
          "name": "stderr",
          "output_type": "stream",
          "text": [
            "381it [04:20,  1.49it/s]"
          ]
        },
        {
          "name": "stdout",
          "output_type": "stream",
          "text": [
            "Epoch [4/15], Step [380/678], Loss: 0.6415\n"
          ]
        },
        {
          "name": "stderr",
          "output_type": "stream",
          "text": [
            "401it [04:34,  1.42it/s]"
          ]
        },
        {
          "name": "stdout",
          "output_type": "stream",
          "text": [
            "Epoch [4/15], Step [400/678], Loss: 0.5590\n"
          ]
        },
        {
          "name": "stderr",
          "output_type": "stream",
          "text": [
            "421it [04:48,  1.45it/s]"
          ]
        },
        {
          "name": "stdout",
          "output_type": "stream",
          "text": [
            "Epoch [4/15], Step [420/678], Loss: 0.6297\n"
          ]
        },
        {
          "name": "stderr",
          "output_type": "stream",
          "text": [
            "441it [05:01,  1.50it/s]"
          ]
        },
        {
          "name": "stdout",
          "output_type": "stream",
          "text": [
            "Epoch [4/15], Step [440/678], Loss: 0.5756\n"
          ]
        },
        {
          "name": "stderr",
          "output_type": "stream",
          "text": [
            "461it [05:15,  1.40it/s]"
          ]
        },
        {
          "name": "stdout",
          "output_type": "stream",
          "text": [
            "Epoch [4/15], Step [460/678], Loss: 0.6315\n"
          ]
        },
        {
          "name": "stderr",
          "output_type": "stream",
          "text": [
            "481it [05:29,  1.46it/s]"
          ]
        },
        {
          "name": "stdout",
          "output_type": "stream",
          "text": [
            "Epoch [4/15], Step [480/678], Loss: 0.5568\n"
          ]
        },
        {
          "name": "stderr",
          "output_type": "stream",
          "text": [
            "501it [05:42,  1.43it/s]"
          ]
        },
        {
          "name": "stdout",
          "output_type": "stream",
          "text": [
            "Epoch [4/15], Step [500/678], Loss: 0.5663\n"
          ]
        },
        {
          "name": "stderr",
          "output_type": "stream",
          "text": [
            "521it [05:56,  1.48it/s]"
          ]
        },
        {
          "name": "stdout",
          "output_type": "stream",
          "text": [
            "Epoch [4/15], Step [520/678], Loss: 0.5439\n"
          ]
        },
        {
          "name": "stderr",
          "output_type": "stream",
          "text": [
            "541it [06:10,  1.49it/s]"
          ]
        },
        {
          "name": "stdout",
          "output_type": "stream",
          "text": [
            "Epoch [4/15], Step [540/678], Loss: 0.7590\n"
          ]
        },
        {
          "name": "stderr",
          "output_type": "stream",
          "text": [
            "561it [06:24,  1.45it/s]"
          ]
        },
        {
          "name": "stdout",
          "output_type": "stream",
          "text": [
            "Epoch [4/15], Step [560/678], Loss: 0.4892\n"
          ]
        },
        {
          "name": "stderr",
          "output_type": "stream",
          "text": [
            "581it [06:37,  1.48it/s]"
          ]
        },
        {
          "name": "stdout",
          "output_type": "stream",
          "text": [
            "Epoch [4/15], Step [580/678], Loss: 0.6853\n"
          ]
        },
        {
          "name": "stderr",
          "output_type": "stream",
          "text": [
            "601it [06:51,  1.45it/s]"
          ]
        },
        {
          "name": "stdout",
          "output_type": "stream",
          "text": [
            "Epoch [4/15], Step [600/678], Loss: 0.7180\n"
          ]
        },
        {
          "name": "stderr",
          "output_type": "stream",
          "text": [
            "621it [07:05,  1.49it/s]"
          ]
        },
        {
          "name": "stdout",
          "output_type": "stream",
          "text": [
            "Epoch [4/15], Step [620/678], Loss: 0.4862\n"
          ]
        },
        {
          "name": "stderr",
          "output_type": "stream",
          "text": [
            "641it [07:18,  1.45it/s]"
          ]
        },
        {
          "name": "stdout",
          "output_type": "stream",
          "text": [
            "Epoch [4/15], Step [640/678], Loss: 0.5800\n"
          ]
        },
        {
          "name": "stderr",
          "output_type": "stream",
          "text": [
            "661it [07:32,  1.48it/s]"
          ]
        },
        {
          "name": "stdout",
          "output_type": "stream",
          "text": [
            "Epoch [4/15], Step [660/678], Loss: 0.5712\n"
          ]
        },
        {
          "name": "stderr",
          "output_type": "stream",
          "text": [
            "678it [07:44,  1.46it/s]\n"
          ]
        },
        {
          "name": "stdout",
          "output_type": "stream",
          "text": [
            "\n",
            "train-loss: 0.7758, train-acc: 78.0919\n"
          ]
        },
        {
          "name": "stderr",
          "output_type": "stream",
          "text": [
            "100%|██████████| 86/86 [00:39<00:00,  2.16it/s]\n"
          ]
        },
        {
          "name": "stdout",
          "output_type": "stream",
          "text": [
            "validation loss: 0.8633, validation acc: 68.2125\n",
            "\n",
            "Epoch 5\n",
            "\n"
          ]
        },
        {
          "name": "stderr",
          "output_type": "stream",
          "text": [
            "1it [00:00,  1.50it/s]"
          ]
        },
        {
          "name": "stdout",
          "output_type": "stream",
          "text": [
            "Epoch [5/15], Step [0/678], Loss: 0.4312\n"
          ]
        },
        {
          "name": "stderr",
          "output_type": "stream",
          "text": [
            "21it [00:14,  1.48it/s]"
          ]
        },
        {
          "name": "stdout",
          "output_type": "stream",
          "text": [
            "Epoch [5/15], Step [20/678], Loss: 0.4758\n"
          ]
        },
        {
          "name": "stderr",
          "output_type": "stream",
          "text": [
            "41it [00:27,  1.44it/s]"
          ]
        },
        {
          "name": "stdout",
          "output_type": "stream",
          "text": [
            "Epoch [5/15], Step [40/678], Loss: 0.3479\n"
          ]
        },
        {
          "name": "stderr",
          "output_type": "stream",
          "text": [
            "61it [00:41,  1.48it/s]"
          ]
        },
        {
          "name": "stdout",
          "output_type": "stream",
          "text": [
            "Epoch [5/15], Step [60/678], Loss: 0.5329\n"
          ]
        },
        {
          "name": "stderr",
          "output_type": "stream",
          "text": [
            "81it [00:55,  1.45it/s]"
          ]
        },
        {
          "name": "stdout",
          "output_type": "stream",
          "text": [
            "Epoch [5/15], Step [80/678], Loss: 0.4299\n"
          ]
        },
        {
          "name": "stderr",
          "output_type": "stream",
          "text": [
            "101it [01:09,  1.46it/s]"
          ]
        },
        {
          "name": "stdout",
          "output_type": "stream",
          "text": [
            "Epoch [5/15], Step [100/678], Loss: 0.3537\n"
          ]
        },
        {
          "name": "stderr",
          "output_type": "stream",
          "text": [
            "121it [01:22,  1.49it/s]"
          ]
        },
        {
          "name": "stdout",
          "output_type": "stream",
          "text": [
            "Epoch [5/15], Step [120/678], Loss: 0.4590\n"
          ]
        },
        {
          "name": "stderr",
          "output_type": "stream",
          "text": [
            "141it [01:36,  1.43it/s]"
          ]
        },
        {
          "name": "stdout",
          "output_type": "stream",
          "text": [
            "Epoch [5/15], Step [140/678], Loss: 0.4334\n"
          ]
        },
        {
          "name": "stderr",
          "output_type": "stream",
          "text": [
            "161it [01:50,  1.44it/s]"
          ]
        },
        {
          "name": "stdout",
          "output_type": "stream",
          "text": [
            "Epoch [5/15], Step [160/678], Loss: 0.5832\n"
          ]
        },
        {
          "name": "stderr",
          "output_type": "stream",
          "text": [
            "181it [02:03,  1.47it/s]"
          ]
        },
        {
          "name": "stdout",
          "output_type": "stream",
          "text": [
            "Epoch [5/15], Step [180/678], Loss: 0.4252\n"
          ]
        },
        {
          "name": "stderr",
          "output_type": "stream",
          "text": [
            "201it [02:17,  1.49it/s]"
          ]
        },
        {
          "name": "stdout",
          "output_type": "stream",
          "text": [
            "Epoch [5/15], Step [200/678], Loss: 0.4277\n"
          ]
        },
        {
          "name": "stderr",
          "output_type": "stream",
          "text": [
            "221it [02:31,  1.44it/s]"
          ]
        },
        {
          "name": "stdout",
          "output_type": "stream",
          "text": [
            "Epoch [5/15], Step [220/678], Loss: 0.4870\n"
          ]
        },
        {
          "name": "stderr",
          "output_type": "stream",
          "text": [
            "241it [02:45,  1.44it/s]"
          ]
        },
        {
          "name": "stdout",
          "output_type": "stream",
          "text": [
            "Epoch [5/15], Step [240/678], Loss: 0.6866\n"
          ]
        },
        {
          "name": "stderr",
          "output_type": "stream",
          "text": [
            "261it [02:58,  1.49it/s]"
          ]
        },
        {
          "name": "stdout",
          "output_type": "stream",
          "text": [
            "Epoch [5/15], Step [260/678], Loss: 0.4565\n"
          ]
        },
        {
          "name": "stderr",
          "output_type": "stream",
          "text": [
            "281it [03:12,  1.46it/s]"
          ]
        },
        {
          "name": "stdout",
          "output_type": "stream",
          "text": [
            "Epoch [5/15], Step [280/678], Loss: 0.5458\n"
          ]
        },
        {
          "name": "stderr",
          "output_type": "stream",
          "text": [
            "301it [03:25,  1.50it/s]"
          ]
        },
        {
          "name": "stdout",
          "output_type": "stream",
          "text": [
            "Epoch [5/15], Step [300/678], Loss: 0.6242\n"
          ]
        },
        {
          "name": "stderr",
          "output_type": "stream",
          "text": [
            "321it [03:39,  1.47it/s]"
          ]
        },
        {
          "name": "stdout",
          "output_type": "stream",
          "text": [
            "Epoch [5/15], Step [320/678], Loss: 0.5585\n"
          ]
        },
        {
          "name": "stderr",
          "output_type": "stream",
          "text": [
            "341it [03:53,  1.49it/s]"
          ]
        },
        {
          "name": "stdout",
          "output_type": "stream",
          "text": [
            "Epoch [5/15], Step [340/678], Loss: 0.6432\n"
          ]
        },
        {
          "name": "stderr",
          "output_type": "stream",
          "text": [
            "361it [04:06,  1.47it/s]"
          ]
        },
        {
          "name": "stdout",
          "output_type": "stream",
          "text": [
            "Epoch [5/15], Step [360/678], Loss: 0.4329\n"
          ]
        },
        {
          "name": "stderr",
          "output_type": "stream",
          "text": [
            "381it [04:20,  1.50it/s]"
          ]
        },
        {
          "name": "stdout",
          "output_type": "stream",
          "text": [
            "Epoch [5/15], Step [380/678], Loss: 0.3658\n"
          ]
        },
        {
          "name": "stderr",
          "output_type": "stream",
          "text": [
            "401it [04:33,  1.48it/s]"
          ]
        },
        {
          "name": "stdout",
          "output_type": "stream",
          "text": [
            "Epoch [5/15], Step [400/678], Loss: 0.5696\n"
          ]
        },
        {
          "name": "stderr",
          "output_type": "stream",
          "text": [
            "421it [04:47,  1.46it/s]"
          ]
        },
        {
          "name": "stdout",
          "output_type": "stream",
          "text": [
            "Epoch [5/15], Step [420/678], Loss: 0.4393\n"
          ]
        },
        {
          "name": "stderr",
          "output_type": "stream",
          "text": [
            "441it [05:00,  1.51it/s]"
          ]
        },
        {
          "name": "stdout",
          "output_type": "stream",
          "text": [
            "Epoch [5/15], Step [440/678], Loss: 0.6132\n"
          ]
        },
        {
          "name": "stderr",
          "output_type": "stream",
          "text": [
            "461it [05:14,  1.51it/s]"
          ]
        },
        {
          "name": "stdout",
          "output_type": "stream",
          "text": [
            "Epoch [5/15], Step [460/678], Loss: 0.5246\n"
          ]
        },
        {
          "name": "stderr",
          "output_type": "stream",
          "text": [
            "481it [05:28,  1.47it/s]"
          ]
        },
        {
          "name": "stdout",
          "output_type": "stream",
          "text": [
            "Epoch [5/15], Step [480/678], Loss: 0.4772\n"
          ]
        },
        {
          "name": "stderr",
          "output_type": "stream",
          "text": [
            "501it [05:41,  1.40it/s]"
          ]
        },
        {
          "name": "stdout",
          "output_type": "stream",
          "text": [
            "Epoch [5/15], Step [500/678], Loss: 0.5665\n"
          ]
        },
        {
          "name": "stderr",
          "output_type": "stream",
          "text": [
            "521it [05:55,  1.50it/s]"
          ]
        },
        {
          "name": "stdout",
          "output_type": "stream",
          "text": [
            "Epoch [5/15], Step [520/678], Loss: 0.3897\n"
          ]
        },
        {
          "name": "stderr",
          "output_type": "stream",
          "text": [
            "541it [06:09,  1.49it/s]"
          ]
        },
        {
          "name": "stdout",
          "output_type": "stream",
          "text": [
            "Epoch [5/15], Step [540/678], Loss: 0.5065\n"
          ]
        },
        {
          "name": "stderr",
          "output_type": "stream",
          "text": [
            "561it [06:22,  1.46it/s]"
          ]
        },
        {
          "name": "stdout",
          "output_type": "stream",
          "text": [
            "Epoch [5/15], Step [560/678], Loss: 0.5750\n"
          ]
        },
        {
          "name": "stderr",
          "output_type": "stream",
          "text": [
            "581it [06:36,  1.42it/s]"
          ]
        },
        {
          "name": "stdout",
          "output_type": "stream",
          "text": [
            "Epoch [5/15], Step [580/678], Loss: 0.4007\n"
          ]
        },
        {
          "name": "stderr",
          "output_type": "stream",
          "text": [
            "601it [06:50,  1.43it/s]"
          ]
        },
        {
          "name": "stdout",
          "output_type": "stream",
          "text": [
            "Epoch [5/15], Step [600/678], Loss: 0.5611\n"
          ]
        },
        {
          "name": "stderr",
          "output_type": "stream",
          "text": [
            "621it [07:03,  1.49it/s]"
          ]
        },
        {
          "name": "stdout",
          "output_type": "stream",
          "text": [
            "Epoch [5/15], Step [620/678], Loss: 0.6221\n"
          ]
        },
        {
          "name": "stderr",
          "output_type": "stream",
          "text": [
            "641it [07:17,  1.51it/s]"
          ]
        },
        {
          "name": "stdout",
          "output_type": "stream",
          "text": [
            "Epoch [5/15], Step [640/678], Loss: 0.4926\n"
          ]
        },
        {
          "name": "stderr",
          "output_type": "stream",
          "text": [
            "661it [07:31,  1.42it/s]"
          ]
        },
        {
          "name": "stdout",
          "output_type": "stream",
          "text": [
            "Epoch [5/15], Step [660/678], Loss: 0.4684\n"
          ]
        },
        {
          "name": "stderr",
          "output_type": "stream",
          "text": [
            "678it [07:42,  1.47it/s]\n"
          ]
        },
        {
          "name": "stdout",
          "output_type": "stream",
          "text": [
            "\n",
            "train-loss: 0.7208, train-acc: 81.6091\n"
          ]
        },
        {
          "name": "stderr",
          "output_type": "stream",
          "text": [
            "100%|██████████| 86/86 [00:38<00:00,  2.22it/s]\n"
          ]
        },
        {
          "name": "stdout",
          "output_type": "stream",
          "text": [
            "validation loss: 0.8814, validation acc: 67.7104\n",
            "\n",
            "Epoch 6\n",
            "\n"
          ]
        },
        {
          "name": "stderr",
          "output_type": "stream",
          "text": [
            "1it [00:00,  1.52it/s]"
          ]
        },
        {
          "name": "stdout",
          "output_type": "stream",
          "text": [
            "Epoch [6/15], Step [0/678], Loss: 0.3203\n"
          ]
        },
        {
          "name": "stderr",
          "output_type": "stream",
          "text": [
            "21it [00:14,  1.48it/s]"
          ]
        },
        {
          "name": "stdout",
          "output_type": "stream",
          "text": [
            "Epoch [6/15], Step [20/678], Loss: 0.3185\n"
          ]
        },
        {
          "name": "stderr",
          "output_type": "stream",
          "text": [
            "41it [00:28,  1.43it/s]"
          ]
        },
        {
          "name": "stdout",
          "output_type": "stream",
          "text": [
            "Epoch [6/15], Step [40/678], Loss: 0.4118\n"
          ]
        },
        {
          "name": "stderr",
          "output_type": "stream",
          "text": [
            "61it [00:41,  1.48it/s]"
          ]
        },
        {
          "name": "stdout",
          "output_type": "stream",
          "text": [
            "Epoch [6/15], Step [60/678], Loss: 0.4241\n"
          ]
        },
        {
          "name": "stderr",
          "output_type": "stream",
          "text": [
            "81it [00:55,  1.47it/s]"
          ]
        },
        {
          "name": "stdout",
          "output_type": "stream",
          "text": [
            "Epoch [6/15], Step [80/678], Loss: 0.4441\n"
          ]
        },
        {
          "name": "stderr",
          "output_type": "stream",
          "text": [
            "101it [01:09,  1.42it/s]"
          ]
        },
        {
          "name": "stdout",
          "output_type": "stream",
          "text": [
            "Epoch [6/15], Step [100/678], Loss: 0.3045\n"
          ]
        },
        {
          "name": "stderr",
          "output_type": "stream",
          "text": [
            "121it [01:22,  1.45it/s]"
          ]
        },
        {
          "name": "stdout",
          "output_type": "stream",
          "text": [
            "Epoch [6/15], Step [120/678], Loss: 0.4241\n"
          ]
        },
        {
          "name": "stderr",
          "output_type": "stream",
          "text": [
            "141it [01:36,  1.49it/s]"
          ]
        },
        {
          "name": "stdout",
          "output_type": "stream",
          "text": [
            "Epoch [6/15], Step [140/678], Loss: 0.4134\n"
          ]
        },
        {
          "name": "stderr",
          "output_type": "stream",
          "text": [
            "161it [01:49,  1.49it/s]"
          ]
        },
        {
          "name": "stdout",
          "output_type": "stream",
          "text": [
            "Epoch [6/15], Step [160/678], Loss: 0.4465\n"
          ]
        },
        {
          "name": "stderr",
          "output_type": "stream",
          "text": [
            "181it [02:03,  1.50it/s]"
          ]
        },
        {
          "name": "stdout",
          "output_type": "stream",
          "text": [
            "Epoch [6/15], Step [180/678], Loss: 0.4768\n"
          ]
        },
        {
          "name": "stderr",
          "output_type": "stream",
          "text": [
            "201it [02:17,  1.43it/s]"
          ]
        },
        {
          "name": "stdout",
          "output_type": "stream",
          "text": [
            "Epoch [6/15], Step [200/678], Loss: 0.4248\n"
          ]
        },
        {
          "name": "stderr",
          "output_type": "stream",
          "text": [
            "221it [02:30,  1.46it/s]"
          ]
        },
        {
          "name": "stdout",
          "output_type": "stream",
          "text": [
            "Epoch [6/15], Step [220/678], Loss: 0.4978\n"
          ]
        },
        {
          "name": "stderr",
          "output_type": "stream",
          "text": [
            "241it [02:44,  1.45it/s]"
          ]
        },
        {
          "name": "stdout",
          "output_type": "stream",
          "text": [
            "Epoch [6/15], Step [240/678], Loss: 0.3486\n"
          ]
        },
        {
          "name": "stderr",
          "output_type": "stream",
          "text": [
            "261it [02:58,  1.46it/s]"
          ]
        },
        {
          "name": "stdout",
          "output_type": "stream",
          "text": [
            "Epoch [6/15], Step [260/678], Loss: 0.4186\n"
          ]
        },
        {
          "name": "stderr",
          "output_type": "stream",
          "text": [
            "281it [03:11,  1.40it/s]"
          ]
        },
        {
          "name": "stdout",
          "output_type": "stream",
          "text": [
            "Epoch [6/15], Step [280/678], Loss: 0.4098\n"
          ]
        },
        {
          "name": "stderr",
          "output_type": "stream",
          "text": [
            "301it [03:25,  1.46it/s]"
          ]
        },
        {
          "name": "stdout",
          "output_type": "stream",
          "text": [
            "Epoch [6/15], Step [300/678], Loss: 0.3615\n"
          ]
        },
        {
          "name": "stderr",
          "output_type": "stream",
          "text": [
            "321it [03:39,  1.50it/s]"
          ]
        },
        {
          "name": "stdout",
          "output_type": "stream",
          "text": [
            "Epoch [6/15], Step [320/678], Loss: 0.3723\n"
          ]
        },
        {
          "name": "stderr",
          "output_type": "stream",
          "text": [
            "341it [03:53,  1.49it/s]"
          ]
        },
        {
          "name": "stdout",
          "output_type": "stream",
          "text": [
            "Epoch [6/15], Step [340/678], Loss: 0.3890\n"
          ]
        },
        {
          "name": "stderr",
          "output_type": "stream",
          "text": [
            "361it [04:06,  1.42it/s]"
          ]
        },
        {
          "name": "stdout",
          "output_type": "stream",
          "text": [
            "Epoch [6/15], Step [360/678], Loss: 0.4121\n"
          ]
        },
        {
          "name": "stderr",
          "output_type": "stream",
          "text": [
            "381it [04:20,  1.46it/s]"
          ]
        },
        {
          "name": "stdout",
          "output_type": "stream",
          "text": [
            "Epoch [6/15], Step [380/678], Loss: 0.3584\n"
          ]
        },
        {
          "name": "stderr",
          "output_type": "stream",
          "text": [
            "401it [04:34,  1.48it/s]"
          ]
        },
        {
          "name": "stdout",
          "output_type": "stream",
          "text": [
            "Epoch [6/15], Step [400/678], Loss: 0.5599\n"
          ]
        },
        {
          "name": "stderr",
          "output_type": "stream",
          "text": [
            "421it [04:48,  1.41it/s]"
          ]
        },
        {
          "name": "stdout",
          "output_type": "stream",
          "text": [
            "Epoch [6/15], Step [420/678], Loss: 0.4222\n"
          ]
        },
        {
          "name": "stderr",
          "output_type": "stream",
          "text": [
            "441it [05:01,  1.38it/s]"
          ]
        },
        {
          "name": "stdout",
          "output_type": "stream",
          "text": [
            "Epoch [6/15], Step [440/678], Loss: 0.4877\n"
          ]
        },
        {
          "name": "stderr",
          "output_type": "stream",
          "text": [
            "461it [05:15,  1.48it/s]"
          ]
        },
        {
          "name": "stdout",
          "output_type": "stream",
          "text": [
            "Epoch [6/15], Step [460/678], Loss: 0.3117\n"
          ]
        },
        {
          "name": "stderr",
          "output_type": "stream",
          "text": [
            "481it [05:28,  1.50it/s]"
          ]
        },
        {
          "name": "stdout",
          "output_type": "stream",
          "text": [
            "Epoch [6/15], Step [480/678], Loss: 0.3713\n"
          ]
        },
        {
          "name": "stderr",
          "output_type": "stream",
          "text": [
            "501it [05:42,  1.48it/s]"
          ]
        },
        {
          "name": "stdout",
          "output_type": "stream",
          "text": [
            "Epoch [6/15], Step [500/678], Loss: 0.4675\n"
          ]
        },
        {
          "name": "stderr",
          "output_type": "stream",
          "text": [
            "521it [05:56,  1.49it/s]"
          ]
        },
        {
          "name": "stdout",
          "output_type": "stream",
          "text": [
            "Epoch [6/15], Step [520/678], Loss: 0.6036\n"
          ]
        },
        {
          "name": "stderr",
          "output_type": "stream",
          "text": [
            "541it [06:09,  1.47it/s]"
          ]
        },
        {
          "name": "stdout",
          "output_type": "stream",
          "text": [
            "Epoch [6/15], Step [540/678], Loss: 0.3727\n"
          ]
        },
        {
          "name": "stderr",
          "output_type": "stream",
          "text": [
            "561it [06:23,  1.43it/s]"
          ]
        },
        {
          "name": "stdout",
          "output_type": "stream",
          "text": [
            "Epoch [6/15], Step [560/678], Loss: 0.6061\n"
          ]
        },
        {
          "name": "stderr",
          "output_type": "stream",
          "text": [
            "581it [06:37,  1.49it/s]"
          ]
        },
        {
          "name": "stdout",
          "output_type": "stream",
          "text": [
            "Epoch [6/15], Step [580/678], Loss: 0.5911\n"
          ]
        },
        {
          "name": "stderr",
          "output_type": "stream",
          "text": [
            "601it [06:50,  1.49it/s]"
          ]
        },
        {
          "name": "stdout",
          "output_type": "stream",
          "text": [
            "Epoch [6/15], Step [600/678], Loss: 0.4290\n"
          ]
        },
        {
          "name": "stderr",
          "output_type": "stream",
          "text": [
            "621it [07:04,  1.45it/s]"
          ]
        },
        {
          "name": "stdout",
          "output_type": "stream",
          "text": [
            "Epoch [6/15], Step [620/678], Loss: 0.4148\n"
          ]
        },
        {
          "name": "stderr",
          "output_type": "stream",
          "text": [
            "641it [07:18,  1.47it/s]"
          ]
        },
        {
          "name": "stdout",
          "output_type": "stream",
          "text": [
            "Epoch [6/15], Step [640/678], Loss: 0.5553\n"
          ]
        },
        {
          "name": "stderr",
          "output_type": "stream",
          "text": [
            "661it [07:31,  1.48it/s]"
          ]
        },
        {
          "name": "stdout",
          "output_type": "stream",
          "text": [
            "Epoch [6/15], Step [660/678], Loss: 0.3777\n"
          ]
        },
        {
          "name": "stderr",
          "output_type": "stream",
          "text": [
            "678it [07:43,  1.46it/s]\n"
          ]
        },
        {
          "name": "stdout",
          "output_type": "stream",
          "text": [
            "\n",
            "train-loss: 0.6693, train-acc: 85.0745\n"
          ]
        },
        {
          "name": "stderr",
          "output_type": "stream",
          "text": [
            "100%|██████████| 86/86 [00:39<00:00,  2.18it/s]\n"
          ]
        },
        {
          "name": "stdout",
          "output_type": "stream",
          "text": [
            "validation loss: 0.9057, validation acc: 67.4092\n",
            "\n",
            "Epoch 7\n",
            "\n"
          ]
        },
        {
          "name": "stderr",
          "output_type": "stream",
          "text": [
            "1it [00:00,  1.49it/s]"
          ]
        },
        {
          "name": "stdout",
          "output_type": "stream",
          "text": [
            "Epoch [7/15], Step [0/678], Loss: 0.2532\n"
          ]
        },
        {
          "name": "stderr",
          "output_type": "stream",
          "text": [
            "21it [00:14,  1.46it/s]"
          ]
        },
        {
          "name": "stdout",
          "output_type": "stream",
          "text": [
            "Epoch [7/15], Step [20/678], Loss: 0.2418\n"
          ]
        },
        {
          "name": "stderr",
          "output_type": "stream",
          "text": [
            "41it [00:28,  1.48it/s]"
          ]
        },
        {
          "name": "stdout",
          "output_type": "stream",
          "text": [
            "Epoch [7/15], Step [40/678], Loss: 0.3049\n"
          ]
        },
        {
          "name": "stderr",
          "output_type": "stream",
          "text": [
            "61it [00:42,  1.42it/s]"
          ]
        },
        {
          "name": "stdout",
          "output_type": "stream",
          "text": [
            "Epoch [7/15], Step [60/678], Loss: 0.4280\n"
          ]
        },
        {
          "name": "stderr",
          "output_type": "stream",
          "text": [
            "81it [00:55,  1.48it/s]"
          ]
        },
        {
          "name": "stdout",
          "output_type": "stream",
          "text": [
            "Epoch [7/15], Step [80/678], Loss: 0.1906\n"
          ]
        },
        {
          "name": "stderr",
          "output_type": "stream",
          "text": [
            "101it [01:09,  1.35it/s]"
          ]
        },
        {
          "name": "stdout",
          "output_type": "stream",
          "text": [
            "Epoch [7/15], Step [100/678], Loss: 0.2641\n"
          ]
        },
        {
          "name": "stderr",
          "output_type": "stream",
          "text": [
            "121it [01:23,  1.45it/s]"
          ]
        },
        {
          "name": "stdout",
          "output_type": "stream",
          "text": [
            "Epoch [7/15], Step [120/678], Loss: 0.3945\n"
          ]
        },
        {
          "name": "stderr",
          "output_type": "stream",
          "text": [
            "141it [01:37,  1.44it/s]"
          ]
        },
        {
          "name": "stdout",
          "output_type": "stream",
          "text": [
            "Epoch [7/15], Step [140/678], Loss: 0.2895\n"
          ]
        },
        {
          "name": "stderr",
          "output_type": "stream",
          "text": [
            "161it [01:51,  1.48it/s]"
          ]
        },
        {
          "name": "stdout",
          "output_type": "stream",
          "text": [
            "Epoch [7/15], Step [160/678], Loss: 0.3066\n"
          ]
        },
        {
          "name": "stderr",
          "output_type": "stream",
          "text": [
            "181it [02:05,  1.48it/s]"
          ]
        },
        {
          "name": "stdout",
          "output_type": "stream",
          "text": [
            "Epoch [7/15], Step [180/678], Loss: 0.2305\n"
          ]
        },
        {
          "name": "stderr",
          "output_type": "stream",
          "text": [
            "201it [02:18,  1.47it/s]"
          ]
        },
        {
          "name": "stdout",
          "output_type": "stream",
          "text": [
            "Epoch [7/15], Step [200/678], Loss: 0.3298\n"
          ]
        },
        {
          "name": "stderr",
          "output_type": "stream",
          "text": [
            "221it [02:32,  1.45it/s]"
          ]
        },
        {
          "name": "stdout",
          "output_type": "stream",
          "text": [
            "Epoch [7/15], Step [220/678], Loss: 0.3516\n"
          ]
        },
        {
          "name": "stderr",
          "output_type": "stream",
          "text": [
            "241it [02:46,  1.41it/s]"
          ]
        },
        {
          "name": "stdout",
          "output_type": "stream",
          "text": [
            "Epoch [7/15], Step [240/678], Loss: 0.2124\n"
          ]
        },
        {
          "name": "stderr",
          "output_type": "stream",
          "text": [
            "261it [03:00,  1.47it/s]"
          ]
        },
        {
          "name": "stdout",
          "output_type": "stream",
          "text": [
            "Epoch [7/15], Step [260/678], Loss: 0.2357\n"
          ]
        },
        {
          "name": "stderr",
          "output_type": "stream",
          "text": [
            "281it [03:13,  1.44it/s]"
          ]
        },
        {
          "name": "stdout",
          "output_type": "stream",
          "text": [
            "Epoch [7/15], Step [280/678], Loss: 0.2121\n"
          ]
        },
        {
          "name": "stderr",
          "output_type": "stream",
          "text": [
            "301it [03:28,  1.41it/s]"
          ]
        },
        {
          "name": "stdout",
          "output_type": "stream",
          "text": [
            "Epoch [7/15], Step [300/678], Loss: 0.3165\n"
          ]
        },
        {
          "name": "stderr",
          "output_type": "stream",
          "text": [
            "321it [03:42,  1.42it/s]"
          ]
        },
        {
          "name": "stdout",
          "output_type": "stream",
          "text": [
            "Epoch [7/15], Step [320/678], Loss: 0.3281\n"
          ]
        },
        {
          "name": "stderr",
          "output_type": "stream",
          "text": [
            "341it [03:56,  1.46it/s]"
          ]
        },
        {
          "name": "stdout",
          "output_type": "stream",
          "text": [
            "Epoch [7/15], Step [340/678], Loss: 0.3590\n"
          ]
        },
        {
          "name": "stderr",
          "output_type": "stream",
          "text": [
            "361it [04:10,  1.38it/s]"
          ]
        },
        {
          "name": "stdout",
          "output_type": "stream",
          "text": [
            "Epoch [7/15], Step [360/678], Loss: 0.2736\n"
          ]
        },
        {
          "name": "stderr",
          "output_type": "stream",
          "text": [
            "381it [04:24,  1.44it/s]"
          ]
        },
        {
          "name": "stdout",
          "output_type": "stream",
          "text": [
            "Epoch [7/15], Step [380/678], Loss: 0.5260\n"
          ]
        },
        {
          "name": "stderr",
          "output_type": "stream",
          "text": [
            "401it [04:37,  1.47it/s]"
          ]
        },
        {
          "name": "stdout",
          "output_type": "stream",
          "text": [
            "Epoch [7/15], Step [400/678], Loss: 0.4246\n"
          ]
        },
        {
          "name": "stderr",
          "output_type": "stream",
          "text": [
            "421it [04:52,  1.34it/s]"
          ]
        },
        {
          "name": "stdout",
          "output_type": "stream",
          "text": [
            "Epoch [7/15], Step [420/678], Loss: 0.2494\n"
          ]
        },
        {
          "name": "stderr",
          "output_type": "stream",
          "text": [
            "441it [05:05,  1.38it/s]"
          ]
        },
        {
          "name": "stdout",
          "output_type": "stream",
          "text": [
            "Epoch [7/15], Step [440/678], Loss: 0.2966\n"
          ]
        },
        {
          "name": "stderr",
          "output_type": "stream",
          "text": [
            "461it [05:19,  1.45it/s]"
          ]
        },
        {
          "name": "stdout",
          "output_type": "stream",
          "text": [
            "Epoch [7/15], Step [460/678], Loss: 0.4001\n"
          ]
        },
        {
          "name": "stderr",
          "output_type": "stream",
          "text": [
            "481it [05:34,  1.47it/s]"
          ]
        },
        {
          "name": "stdout",
          "output_type": "stream",
          "text": [
            "Epoch [7/15], Step [480/678], Loss: 0.3723\n"
          ]
        },
        {
          "name": "stderr",
          "output_type": "stream",
          "text": [
            "501it [05:47,  1.46it/s]"
          ]
        },
        {
          "name": "stdout",
          "output_type": "stream",
          "text": [
            "Epoch [7/15], Step [500/678], Loss: 0.3041\n"
          ]
        },
        {
          "name": "stderr",
          "output_type": "stream",
          "text": [
            "521it [06:02,  1.44it/s]"
          ]
        },
        {
          "name": "stdout",
          "output_type": "stream",
          "text": [
            "Epoch [7/15], Step [520/678], Loss: 0.3778\n"
          ]
        },
        {
          "name": "stderr",
          "output_type": "stream",
          "text": [
            "541it [06:16,  1.43it/s]"
          ]
        },
        {
          "name": "stdout",
          "output_type": "stream",
          "text": [
            "Epoch [7/15], Step [540/678], Loss: 0.3496\n"
          ]
        },
        {
          "name": "stderr",
          "output_type": "stream",
          "text": [
            "561it [06:29,  1.46it/s]"
          ]
        },
        {
          "name": "stdout",
          "output_type": "stream",
          "text": [
            "Epoch [7/15], Step [560/678], Loss: 0.3772\n"
          ]
        },
        {
          "name": "stderr",
          "output_type": "stream",
          "text": [
            "581it [06:44,  1.16it/s]"
          ]
        },
        {
          "name": "stdout",
          "output_type": "stream",
          "text": [
            "Epoch [7/15], Step [580/678], Loss: 0.2452\n"
          ]
        },
        {
          "name": "stderr",
          "output_type": "stream",
          "text": [
            "601it [06:58,  1.36it/s]"
          ]
        },
        {
          "name": "stdout",
          "output_type": "stream",
          "text": [
            "Epoch [7/15], Step [600/678], Loss: 0.3740\n"
          ]
        },
        {
          "name": "stderr",
          "output_type": "stream",
          "text": [
            "621it [07:12,  1.47it/s]"
          ]
        },
        {
          "name": "stdout",
          "output_type": "stream",
          "text": [
            "Epoch [7/15], Step [620/678], Loss: 0.3823\n"
          ]
        },
        {
          "name": "stderr",
          "output_type": "stream",
          "text": [
            "641it [07:27,  1.40it/s]"
          ]
        },
        {
          "name": "stdout",
          "output_type": "stream",
          "text": [
            "Epoch [7/15], Step [640/678], Loss: 0.3080\n"
          ]
        },
        {
          "name": "stderr",
          "output_type": "stream",
          "text": [
            "661it [07:41,  1.45it/s]"
          ]
        },
        {
          "name": "stdout",
          "output_type": "stream",
          "text": [
            "Epoch [7/15], Step [660/678], Loss: 0.2950\n"
          ]
        },
        {
          "name": "stderr",
          "output_type": "stream",
          "text": [
            "678it [07:52,  1.43it/s]\n"
          ]
        },
        {
          "name": "stdout",
          "output_type": "stream",
          "text": [
            "\n",
            "train-loss: 0.6215, train-acc: 88.0257\n"
          ]
        },
        {
          "name": "stderr",
          "output_type": "stream",
          "text": [
            "100%|██████████| 86/86 [00:41<00:00,  2.07it/s]\n"
          ]
        },
        {
          "name": "stdout",
          "output_type": "stream",
          "text": [
            "validation loss: 0.9305, validation acc: 67.3909\n",
            "\n",
            "Epoch 8\n",
            "\n"
          ]
        },
        {
          "name": "stderr",
          "output_type": "stream",
          "text": [
            "1it [00:00,  1.39it/s]"
          ]
        },
        {
          "name": "stdout",
          "output_type": "stream",
          "text": [
            "Epoch [8/15], Step [0/678], Loss: 0.3159\n"
          ]
        },
        {
          "name": "stderr",
          "output_type": "stream",
          "text": [
            "21it [00:14,  1.43it/s]"
          ]
        },
        {
          "name": "stdout",
          "output_type": "stream",
          "text": [
            "Epoch [8/15], Step [20/678], Loss: 0.2692\n"
          ]
        },
        {
          "name": "stderr",
          "output_type": "stream",
          "text": [
            "41it [00:28,  1.35it/s]"
          ]
        },
        {
          "name": "stdout",
          "output_type": "stream",
          "text": [
            "Epoch [8/15], Step [40/678], Loss: 0.3047\n"
          ]
        },
        {
          "name": "stderr",
          "output_type": "stream",
          "text": [
            "61it [00:43,  1.47it/s]"
          ]
        },
        {
          "name": "stdout",
          "output_type": "stream",
          "text": [
            "Epoch [8/15], Step [60/678], Loss: 0.2574\n"
          ]
        },
        {
          "name": "stderr",
          "output_type": "stream",
          "text": [
            "81it [00:57,  1.38it/s]"
          ]
        },
        {
          "name": "stdout",
          "output_type": "stream",
          "text": [
            "Epoch [8/15], Step [80/678], Loss: 0.2986\n"
          ]
        },
        {
          "name": "stderr",
          "output_type": "stream",
          "text": [
            "101it [01:11,  1.44it/s]"
          ]
        },
        {
          "name": "stdout",
          "output_type": "stream",
          "text": [
            "Epoch [8/15], Step [100/678], Loss: 0.1980\n"
          ]
        },
        {
          "name": "stderr",
          "output_type": "stream",
          "text": [
            "121it [01:25,  1.48it/s]"
          ]
        },
        {
          "name": "stdout",
          "output_type": "stream",
          "text": [
            "Epoch [8/15], Step [120/678], Loss: 0.2666\n"
          ]
        },
        {
          "name": "stderr",
          "output_type": "stream",
          "text": [
            "141it [01:40,  1.42it/s]"
          ]
        },
        {
          "name": "stdout",
          "output_type": "stream",
          "text": [
            "Epoch [8/15], Step [140/678], Loss: 0.2438\n"
          ]
        },
        {
          "name": "stderr",
          "output_type": "stream",
          "text": [
            "161it [01:54,  1.44it/s]"
          ]
        },
        {
          "name": "stdout",
          "output_type": "stream",
          "text": [
            "Epoch [8/15], Step [160/678], Loss: 0.1828\n"
          ]
        },
        {
          "name": "stderr",
          "output_type": "stream",
          "text": [
            "181it [02:08,  1.47it/s]"
          ]
        },
        {
          "name": "stdout",
          "output_type": "stream",
          "text": [
            "Epoch [8/15], Step [180/678], Loss: 0.1906\n"
          ]
        },
        {
          "name": "stderr",
          "output_type": "stream",
          "text": [
            "201it [02:22,  1.44it/s]"
          ]
        },
        {
          "name": "stdout",
          "output_type": "stream",
          "text": [
            "Epoch [8/15], Step [200/678], Loss: 0.3587\n"
          ]
        },
        {
          "name": "stderr",
          "output_type": "stream",
          "text": [
            "221it [02:36,  1.40it/s]"
          ]
        },
        {
          "name": "stdout",
          "output_type": "stream",
          "text": [
            "Epoch [8/15], Step [220/678], Loss: 0.2202\n"
          ]
        },
        {
          "name": "stderr",
          "output_type": "stream",
          "text": [
            "241it [02:49,  1.46it/s]"
          ]
        },
        {
          "name": "stdout",
          "output_type": "stream",
          "text": [
            "Epoch [8/15], Step [240/678], Loss: 0.2906\n"
          ]
        },
        {
          "name": "stderr",
          "output_type": "stream",
          "text": [
            "261it [03:03,  1.48it/s]"
          ]
        },
        {
          "name": "stdout",
          "output_type": "stream",
          "text": [
            "Epoch [8/15], Step [260/678], Loss: 0.3297\n"
          ]
        },
        {
          "name": "stderr",
          "output_type": "stream",
          "text": [
            "281it [03:17,  1.44it/s]"
          ]
        },
        {
          "name": "stdout",
          "output_type": "stream",
          "text": [
            "Epoch [8/15], Step [280/678], Loss: 0.2512\n"
          ]
        },
        {
          "name": "stderr",
          "output_type": "stream",
          "text": [
            "301it [03:31,  1.41it/s]"
          ]
        },
        {
          "name": "stdout",
          "output_type": "stream",
          "text": [
            "Epoch [8/15], Step [300/678], Loss: 0.1580\n"
          ]
        },
        {
          "name": "stderr",
          "output_type": "stream",
          "text": [
            "321it [03:44,  1.48it/s]"
          ]
        },
        {
          "name": "stdout",
          "output_type": "stream",
          "text": [
            "Epoch [8/15], Step [320/678], Loss: 0.3157\n"
          ]
        },
        {
          "name": "stderr",
          "output_type": "stream",
          "text": [
            "341it [03:58,  1.51it/s]"
          ]
        },
        {
          "name": "stdout",
          "output_type": "stream",
          "text": [
            "Epoch [8/15], Step [340/678], Loss: 0.2578\n"
          ]
        },
        {
          "name": "stderr",
          "output_type": "stream",
          "text": [
            "361it [04:12,  1.42it/s]"
          ]
        },
        {
          "name": "stdout",
          "output_type": "stream",
          "text": [
            "Epoch [8/15], Step [360/678], Loss: 0.3187\n"
          ]
        },
        {
          "name": "stderr",
          "output_type": "stream",
          "text": [
            "381it [04:25,  1.48it/s]"
          ]
        },
        {
          "name": "stdout",
          "output_type": "stream",
          "text": [
            "Epoch [8/15], Step [380/678], Loss: 0.1645\n"
          ]
        },
        {
          "name": "stderr",
          "output_type": "stream",
          "text": [
            "401it [04:39,  1.48it/s]"
          ]
        },
        {
          "name": "stdout",
          "output_type": "stream",
          "text": [
            "Epoch [8/15], Step [400/678], Loss: 0.4503\n"
          ]
        },
        {
          "name": "stderr",
          "output_type": "stream",
          "text": [
            "421it [04:53,  1.48it/s]"
          ]
        },
        {
          "name": "stdout",
          "output_type": "stream",
          "text": [
            "Epoch [8/15], Step [420/678], Loss: 0.2356\n"
          ]
        },
        {
          "name": "stderr",
          "output_type": "stream",
          "text": [
            "441it [05:07,  1.48it/s]"
          ]
        },
        {
          "name": "stdout",
          "output_type": "stream",
          "text": [
            "Epoch [8/15], Step [440/678], Loss: 0.3281\n"
          ]
        },
        {
          "name": "stderr",
          "output_type": "stream",
          "text": [
            "461it [05:21,  1.41it/s]"
          ]
        },
        {
          "name": "stdout",
          "output_type": "stream",
          "text": [
            "Epoch [8/15], Step [460/678], Loss: 0.3223\n"
          ]
        },
        {
          "name": "stderr",
          "output_type": "stream",
          "text": [
            "481it [05:34,  1.41it/s]"
          ]
        },
        {
          "name": "stdout",
          "output_type": "stream",
          "text": [
            "Epoch [8/15], Step [480/678], Loss: 0.2438\n"
          ]
        },
        {
          "name": "stderr",
          "output_type": "stream",
          "text": [
            "501it [05:48,  1.43it/s]"
          ]
        },
        {
          "name": "stdout",
          "output_type": "stream",
          "text": [
            "Epoch [8/15], Step [500/678], Loss: 0.2246\n"
          ]
        },
        {
          "name": "stderr",
          "output_type": "stream",
          "text": [
            "521it [06:02,  1.41it/s]"
          ]
        },
        {
          "name": "stdout",
          "output_type": "stream",
          "text": [
            "Epoch [8/15], Step [520/678], Loss: 0.3235\n"
          ]
        },
        {
          "name": "stderr",
          "output_type": "stream",
          "text": [
            "541it [06:16,  1.37it/s]"
          ]
        },
        {
          "name": "stdout",
          "output_type": "stream",
          "text": [
            "Epoch [8/15], Step [540/678], Loss: 0.3409\n"
          ]
        },
        {
          "name": "stderr",
          "output_type": "stream",
          "text": [
            "561it [06:30,  1.45it/s]"
          ]
        },
        {
          "name": "stdout",
          "output_type": "stream",
          "text": [
            "Epoch [8/15], Step [560/678], Loss: 0.3998\n"
          ]
        },
        {
          "name": "stderr",
          "output_type": "stream",
          "text": [
            "581it [06:44,  1.48it/s]"
          ]
        },
        {
          "name": "stdout",
          "output_type": "stream",
          "text": [
            "Epoch [8/15], Step [580/678], Loss: 0.2867\n"
          ]
        },
        {
          "name": "stderr",
          "output_type": "stream",
          "text": [
            "601it [06:58,  1.41it/s]"
          ]
        },
        {
          "name": "stdout",
          "output_type": "stream",
          "text": [
            "Epoch [8/15], Step [600/678], Loss: 0.2695\n"
          ]
        },
        {
          "name": "stderr",
          "output_type": "stream",
          "text": [
            "621it [07:12,  1.47it/s]"
          ]
        },
        {
          "name": "stdout",
          "output_type": "stream",
          "text": [
            "Epoch [8/15], Step [620/678], Loss: 0.2127\n"
          ]
        },
        {
          "name": "stderr",
          "output_type": "stream",
          "text": [
            "641it [07:26,  1.47it/s]"
          ]
        },
        {
          "name": "stdout",
          "output_type": "stream",
          "text": [
            "Epoch [8/15], Step [640/678], Loss: 0.2508\n"
          ]
        },
        {
          "name": "stderr",
          "output_type": "stream",
          "text": [
            "661it [07:39,  1.47it/s]"
          ]
        },
        {
          "name": "stdout",
          "output_type": "stream",
          "text": [
            "Epoch [8/15], Step [660/678], Loss: 0.2846\n"
          ]
        },
        {
          "name": "stderr",
          "output_type": "stream",
          "text": [
            "678it [07:51,  1.44it/s]\n"
          ]
        },
        {
          "name": "stdout",
          "output_type": "stream",
          "text": [
            "\n",
            "train-loss: 0.5774, train-acc: 90.4051\n"
          ]
        },
        {
          "name": "stderr",
          "output_type": "stream",
          "text": [
            "100%|██████████| 86/86 [00:40<00:00,  2.12it/s]\n"
          ]
        },
        {
          "name": "stdout",
          "output_type": "stream",
          "text": [
            "validation loss: 0.9577, validation acc: 67.4366\n",
            "\n",
            "Epoch 9\n",
            "\n"
          ]
        },
        {
          "name": "stderr",
          "output_type": "stream",
          "text": [
            "1it [00:00,  1.52it/s]"
          ]
        },
        {
          "name": "stdout",
          "output_type": "stream",
          "text": [
            "Epoch [9/15], Step [0/678], Loss: 0.1536\n"
          ]
        },
        {
          "name": "stderr",
          "output_type": "stream",
          "text": [
            "21it [00:14,  1.49it/s]"
          ]
        },
        {
          "name": "stdout",
          "output_type": "stream",
          "text": [
            "Epoch [9/15], Step [20/678], Loss: 0.2753\n"
          ]
        },
        {
          "name": "stderr",
          "output_type": "stream",
          "text": [
            "41it [00:28,  1.42it/s]"
          ]
        },
        {
          "name": "stdout",
          "output_type": "stream",
          "text": [
            "Epoch [9/15], Step [40/678], Loss: 0.1380\n"
          ]
        },
        {
          "name": "stderr",
          "output_type": "stream",
          "text": [
            "61it [00:42,  1.48it/s]"
          ]
        },
        {
          "name": "stdout",
          "output_type": "stream",
          "text": [
            "Epoch [9/15], Step [60/678], Loss: 0.1378\n"
          ]
        },
        {
          "name": "stderr",
          "output_type": "stream",
          "text": [
            "81it [00:56,  1.26it/s]"
          ]
        },
        {
          "name": "stdout",
          "output_type": "stream",
          "text": [
            "Epoch [9/15], Step [80/678], Loss: 0.1710\n"
          ]
        },
        {
          "name": "stderr",
          "output_type": "stream",
          "text": [
            "101it [01:09,  1.40it/s]"
          ]
        },
        {
          "name": "stdout",
          "output_type": "stream",
          "text": [
            "Epoch [9/15], Step [100/678], Loss: 0.1550\n"
          ]
        },
        {
          "name": "stderr",
          "output_type": "stream",
          "text": [
            "121it [01:23,  1.48it/s]"
          ]
        },
        {
          "name": "stdout",
          "output_type": "stream",
          "text": [
            "Epoch [9/15], Step [120/678], Loss: 0.2433\n"
          ]
        },
        {
          "name": "stderr",
          "output_type": "stream",
          "text": [
            "141it [01:37,  1.48it/s]"
          ]
        },
        {
          "name": "stdout",
          "output_type": "stream",
          "text": [
            "Epoch [9/15], Step [140/678], Loss: 0.1859\n"
          ]
        },
        {
          "name": "stderr",
          "output_type": "stream",
          "text": [
            "161it [01:51,  1.46it/s]"
          ]
        },
        {
          "name": "stdout",
          "output_type": "stream",
          "text": [
            "Epoch [9/15], Step [160/678], Loss: 0.1234\n"
          ]
        },
        {
          "name": "stderr",
          "output_type": "stream",
          "text": [
            "181it [02:05,  1.42it/s]"
          ]
        },
        {
          "name": "stdout",
          "output_type": "stream",
          "text": [
            "Epoch [9/15], Step [180/678], Loss: 0.3473\n"
          ]
        },
        {
          "name": "stderr",
          "output_type": "stream",
          "text": [
            "201it [02:19,  1.45it/s]"
          ]
        },
        {
          "name": "stdout",
          "output_type": "stream",
          "text": [
            "Epoch [9/15], Step [200/678], Loss: 0.1122\n"
          ]
        },
        {
          "name": "stderr",
          "output_type": "stream",
          "text": [
            "221it [02:33,  1.46it/s]"
          ]
        },
        {
          "name": "stdout",
          "output_type": "stream",
          "text": [
            "Epoch [9/15], Step [220/678], Loss: 0.2662\n"
          ]
        },
        {
          "name": "stderr",
          "output_type": "stream",
          "text": [
            "241it [02:47,  1.45it/s]"
          ]
        },
        {
          "name": "stdout",
          "output_type": "stream",
          "text": [
            "Epoch [9/15], Step [240/678], Loss: 0.2042\n"
          ]
        },
        {
          "name": "stderr",
          "output_type": "stream",
          "text": [
            "261it [03:01,  1.34it/s]"
          ]
        },
        {
          "name": "stdout",
          "output_type": "stream",
          "text": [
            "Epoch [9/15], Step [260/678], Loss: 0.2005\n"
          ]
        },
        {
          "name": "stderr",
          "output_type": "stream",
          "text": [
            "281it [03:15,  1.44it/s]"
          ]
        },
        {
          "name": "stdout",
          "output_type": "stream",
          "text": [
            "Epoch [9/15], Step [280/678], Loss: 0.1229\n"
          ]
        },
        {
          "name": "stderr",
          "output_type": "stream",
          "text": [
            "301it [03:29,  1.44it/s]"
          ]
        },
        {
          "name": "stdout",
          "output_type": "stream",
          "text": [
            "Epoch [9/15], Step [300/678], Loss: 0.1486\n"
          ]
        },
        {
          "name": "stderr",
          "output_type": "stream",
          "text": [
            "321it [03:43,  1.40it/s]"
          ]
        },
        {
          "name": "stdout",
          "output_type": "stream",
          "text": [
            "Epoch [9/15], Step [320/678], Loss: 0.2616\n"
          ]
        },
        {
          "name": "stderr",
          "output_type": "stream",
          "text": [
            "341it [03:57,  1.42it/s]"
          ]
        },
        {
          "name": "stdout",
          "output_type": "stream",
          "text": [
            "Epoch [9/15], Step [340/678], Loss: 0.2808\n"
          ]
        },
        {
          "name": "stderr",
          "output_type": "stream",
          "text": [
            "361it [04:11,  1.45it/s]"
          ]
        },
        {
          "name": "stdout",
          "output_type": "stream",
          "text": [
            "Epoch [9/15], Step [360/678], Loss: 0.2941\n"
          ]
        },
        {
          "name": "stderr",
          "output_type": "stream",
          "text": [
            "381it [04:25,  1.46it/s]"
          ]
        },
        {
          "name": "stdout",
          "output_type": "stream",
          "text": [
            "Epoch [9/15], Step [380/678], Loss: 0.2179\n"
          ]
        },
        {
          "name": "stderr",
          "output_type": "stream",
          "text": [
            "401it [04:39,  1.39it/s]"
          ]
        },
        {
          "name": "stdout",
          "output_type": "stream",
          "text": [
            "Epoch [9/15], Step [400/678], Loss: 0.1796\n"
          ]
        },
        {
          "name": "stderr",
          "output_type": "stream",
          "text": [
            "421it [04:52,  1.45it/s]"
          ]
        },
        {
          "name": "stdout",
          "output_type": "stream",
          "text": [
            "Epoch [9/15], Step [420/678], Loss: 0.1782\n"
          ]
        },
        {
          "name": "stderr",
          "output_type": "stream",
          "text": [
            "441it [05:06,  1.45it/s]"
          ]
        },
        {
          "name": "stdout",
          "output_type": "stream",
          "text": [
            "Epoch [9/15], Step [440/678], Loss: 0.2697\n"
          ]
        },
        {
          "name": "stderr",
          "output_type": "stream",
          "text": [
            "461it [05:20,  1.48it/s]"
          ]
        },
        {
          "name": "stdout",
          "output_type": "stream",
          "text": [
            "Epoch [9/15], Step [460/678], Loss: 0.2386\n"
          ]
        },
        {
          "name": "stderr",
          "output_type": "stream",
          "text": [
            "481it [05:34,  1.37it/s]"
          ]
        },
        {
          "name": "stdout",
          "output_type": "stream",
          "text": [
            "Epoch [9/15], Step [480/678], Loss: 0.2206\n"
          ]
        },
        {
          "name": "stderr",
          "output_type": "stream",
          "text": [
            "501it [05:49,  1.39it/s]"
          ]
        },
        {
          "name": "stdout",
          "output_type": "stream",
          "text": [
            "Epoch [9/15], Step [500/678], Loss: 0.2450\n"
          ]
        },
        {
          "name": "stderr",
          "output_type": "stream",
          "text": [
            "521it [06:03,  1.44it/s]"
          ]
        },
        {
          "name": "stdout",
          "output_type": "stream",
          "text": [
            "Epoch [9/15], Step [520/678], Loss: 0.2774\n"
          ]
        },
        {
          "name": "stderr",
          "output_type": "stream",
          "text": [
            "541it [06:17,  1.37it/s]"
          ]
        },
        {
          "name": "stdout",
          "output_type": "stream",
          "text": [
            "Epoch [9/15], Step [540/678], Loss: 0.2426\n"
          ]
        },
        {
          "name": "stderr",
          "output_type": "stream",
          "text": [
            "561it [06:31,  1.42it/s]"
          ]
        },
        {
          "name": "stdout",
          "output_type": "stream",
          "text": [
            "Epoch [9/15], Step [560/678], Loss: 0.3541\n"
          ]
        },
        {
          "name": "stderr",
          "output_type": "stream",
          "text": [
            "581it [06:45,  1.43it/s]"
          ]
        },
        {
          "name": "stdout",
          "output_type": "stream",
          "text": [
            "Epoch [9/15], Step [580/678], Loss: 0.3230\n"
          ]
        },
        {
          "name": "stderr",
          "output_type": "stream",
          "text": [
            "601it [06:59,  1.45it/s]"
          ]
        },
        {
          "name": "stdout",
          "output_type": "stream",
          "text": [
            "Epoch [9/15], Step [600/678], Loss: 0.2134\n"
          ]
        },
        {
          "name": "stderr",
          "output_type": "stream",
          "text": [
            "621it [07:13,  1.39it/s]"
          ]
        },
        {
          "name": "stdout",
          "output_type": "stream",
          "text": [
            "Epoch [9/15], Step [620/678], Loss: 0.2937\n"
          ]
        },
        {
          "name": "stderr",
          "output_type": "stream",
          "text": [
            "641it [07:27,  1.45it/s]"
          ]
        },
        {
          "name": "stdout",
          "output_type": "stream",
          "text": [
            "Epoch [9/15], Step [640/678], Loss: 0.2239\n"
          ]
        },
        {
          "name": "stderr",
          "output_type": "stream",
          "text": [
            "661it [07:41,  1.46it/s]"
          ]
        },
        {
          "name": "stdout",
          "output_type": "stream",
          "text": [
            "Epoch [9/15], Step [660/678], Loss: 0.3696\n"
          ]
        },
        {
          "name": "stderr",
          "output_type": "stream",
          "text": [
            "678it [07:53,  1.43it/s]\n"
          ]
        },
        {
          "name": "stdout",
          "output_type": "stream",
          "text": [
            "\n",
            "train-loss: 0.5375, train-acc: 92.2796\n"
          ]
        },
        {
          "name": "stderr",
          "output_type": "stream",
          "text": [
            "100%|██████████| 86/86 [00:40<00:00,  2.13it/s]\n"
          ]
        },
        {
          "name": "stdout",
          "output_type": "stream",
          "text": [
            "validation loss: 0.9980, validation acc: 65.0904\n",
            "\n",
            "Epoch 10\n",
            "\n"
          ]
        },
        {
          "name": "stderr",
          "output_type": "stream",
          "text": [
            "1it [00:00,  1.46it/s]"
          ]
        },
        {
          "name": "stdout",
          "output_type": "stream",
          "text": [
            "Epoch [10/15], Step [0/678], Loss: 0.1457\n"
          ]
        },
        {
          "name": "stderr",
          "output_type": "stream",
          "text": [
            "21it [00:14,  1.44it/s]"
          ]
        },
        {
          "name": "stdout",
          "output_type": "stream",
          "text": [
            "Epoch [10/15], Step [20/678], Loss: 0.1158\n"
          ]
        },
        {
          "name": "stderr",
          "output_type": "stream",
          "text": [
            "41it [00:28,  1.47it/s]"
          ]
        },
        {
          "name": "stdout",
          "output_type": "stream",
          "text": [
            "Epoch [10/15], Step [40/678], Loss: 0.2208\n"
          ]
        },
        {
          "name": "stderr",
          "output_type": "stream",
          "text": [
            "61it [00:42,  1.44it/s]"
          ]
        },
        {
          "name": "stdout",
          "output_type": "stream",
          "text": [
            "Epoch [10/15], Step [60/678], Loss: 0.1247\n"
          ]
        },
        {
          "name": "stderr",
          "output_type": "stream",
          "text": [
            "81it [00:56,  1.47it/s]"
          ]
        },
        {
          "name": "stdout",
          "output_type": "stream",
          "text": [
            "Epoch [10/15], Step [80/678], Loss: 0.1546\n"
          ]
        },
        {
          "name": "stderr",
          "output_type": "stream",
          "text": [
            "101it [01:10,  1.45it/s]"
          ]
        },
        {
          "name": "stdout",
          "output_type": "stream",
          "text": [
            "Epoch [10/15], Step [100/678], Loss: 0.0905\n"
          ]
        },
        {
          "name": "stderr",
          "output_type": "stream",
          "text": [
            "121it [01:24,  1.36it/s]"
          ]
        },
        {
          "name": "stdout",
          "output_type": "stream",
          "text": [
            "Epoch [10/15], Step [120/678], Loss: 0.1926\n"
          ]
        },
        {
          "name": "stderr",
          "output_type": "stream",
          "text": [
            "141it [01:38,  1.46it/s]"
          ]
        },
        {
          "name": "stdout",
          "output_type": "stream",
          "text": [
            "Epoch [10/15], Step [140/678], Loss: 0.1355\n"
          ]
        },
        {
          "name": "stderr",
          "output_type": "stream",
          "text": [
            "161it [01:52,  1.37it/s]"
          ]
        },
        {
          "name": "stdout",
          "output_type": "stream",
          "text": [
            "Epoch [10/15], Step [160/678], Loss: 0.1896\n"
          ]
        },
        {
          "name": "stderr",
          "output_type": "stream",
          "text": [
            "181it [02:05,  1.45it/s]"
          ]
        },
        {
          "name": "stdout",
          "output_type": "stream",
          "text": [
            "Epoch [10/15], Step [180/678], Loss: 0.0985\n"
          ]
        },
        {
          "name": "stderr",
          "output_type": "stream",
          "text": [
            "201it [02:19,  1.42it/s]"
          ]
        },
        {
          "name": "stdout",
          "output_type": "stream",
          "text": [
            "Epoch [10/15], Step [200/678], Loss: 0.1883\n"
          ]
        },
        {
          "name": "stderr",
          "output_type": "stream",
          "text": [
            "221it [02:33,  1.44it/s]"
          ]
        },
        {
          "name": "stdout",
          "output_type": "stream",
          "text": [
            "Epoch [10/15], Step [220/678], Loss: 0.1445\n"
          ]
        },
        {
          "name": "stderr",
          "output_type": "stream",
          "text": [
            "241it [02:47,  1.48it/s]"
          ]
        },
        {
          "name": "stdout",
          "output_type": "stream",
          "text": [
            "Epoch [10/15], Step [240/678], Loss: 0.2021\n"
          ]
        },
        {
          "name": "stderr",
          "output_type": "stream",
          "text": [
            "261it [03:01,  1.49it/s]"
          ]
        },
        {
          "name": "stdout",
          "output_type": "stream",
          "text": [
            "Epoch [10/15], Step [260/678], Loss: 0.1750\n"
          ]
        },
        {
          "name": "stderr",
          "output_type": "stream",
          "text": [
            "281it [03:15,  1.43it/s]"
          ]
        },
        {
          "name": "stdout",
          "output_type": "stream",
          "text": [
            "Epoch [10/15], Step [280/678], Loss: 0.1510\n"
          ]
        },
        {
          "name": "stderr",
          "output_type": "stream",
          "text": [
            "301it [03:29,  1.43it/s]"
          ]
        },
        {
          "name": "stdout",
          "output_type": "stream",
          "text": [
            "Epoch [10/15], Step [300/678], Loss: 0.1943\n"
          ]
        },
        {
          "name": "stderr",
          "output_type": "stream",
          "text": [
            "321it [03:43,  1.45it/s]"
          ]
        },
        {
          "name": "stdout",
          "output_type": "stream",
          "text": [
            "Epoch [10/15], Step [320/678], Loss: 0.1011\n"
          ]
        },
        {
          "name": "stderr",
          "output_type": "stream",
          "text": [
            "341it [03:57,  1.32it/s]"
          ]
        },
        {
          "name": "stdout",
          "output_type": "stream",
          "text": [
            "Epoch [10/15], Step [340/678], Loss: 0.1104\n"
          ]
        },
        {
          "name": "stderr",
          "output_type": "stream",
          "text": [
            "361it [04:10,  1.43it/s]"
          ]
        },
        {
          "name": "stdout",
          "output_type": "stream",
          "text": [
            "Epoch [10/15], Step [360/678], Loss: 0.1022\n"
          ]
        },
        {
          "name": "stderr",
          "output_type": "stream",
          "text": [
            "381it [04:24,  1.46it/s]"
          ]
        },
        {
          "name": "stdout",
          "output_type": "stream",
          "text": [
            "Epoch [10/15], Step [380/678], Loss: 0.2420\n"
          ]
        },
        {
          "name": "stderr",
          "output_type": "stream",
          "text": [
            "401it [04:38,  1.41it/s]"
          ]
        },
        {
          "name": "stdout",
          "output_type": "stream",
          "text": [
            "Epoch [10/15], Step [400/678], Loss: 0.2134\n"
          ]
        },
        {
          "name": "stderr",
          "output_type": "stream",
          "text": [
            "421it [04:52,  1.50it/s]"
          ]
        },
        {
          "name": "stdout",
          "output_type": "stream",
          "text": [
            "Epoch [10/15], Step [420/678], Loss: 0.0879\n"
          ]
        },
        {
          "name": "stderr",
          "output_type": "stream",
          "text": [
            "441it [05:06,  1.42it/s]"
          ]
        },
        {
          "name": "stdout",
          "output_type": "stream",
          "text": [
            "Epoch [10/15], Step [440/678], Loss: 0.1212\n"
          ]
        },
        {
          "name": "stderr",
          "output_type": "stream",
          "text": [
            "461it [05:20,  1.47it/s]"
          ]
        },
        {
          "name": "stdout",
          "output_type": "stream",
          "text": [
            "Epoch [10/15], Step [460/678], Loss: 0.2393\n"
          ]
        },
        {
          "name": "stderr",
          "output_type": "stream",
          "text": [
            "481it [05:34,  1.43it/s]"
          ]
        },
        {
          "name": "stdout",
          "output_type": "stream",
          "text": [
            "Epoch [10/15], Step [480/678], Loss: 0.1901\n"
          ]
        },
        {
          "name": "stderr",
          "output_type": "stream",
          "text": [
            "501it [05:47,  1.48it/s]"
          ]
        },
        {
          "name": "stdout",
          "output_type": "stream",
          "text": [
            "Epoch [10/15], Step [500/678], Loss: 0.1349\n"
          ]
        },
        {
          "name": "stderr",
          "output_type": "stream",
          "text": [
            "521it [06:01,  1.42it/s]"
          ]
        },
        {
          "name": "stdout",
          "output_type": "stream",
          "text": [
            "Epoch [10/15], Step [520/678], Loss: 0.2961\n"
          ]
        },
        {
          "name": "stderr",
          "output_type": "stream",
          "text": [
            "541it [06:15,  1.47it/s]"
          ]
        },
        {
          "name": "stdout",
          "output_type": "stream",
          "text": [
            "Epoch [10/15], Step [540/678], Loss: 0.1386\n"
          ]
        },
        {
          "name": "stderr",
          "output_type": "stream",
          "text": [
            "561it [06:29,  1.46it/s]"
          ]
        },
        {
          "name": "stdout",
          "output_type": "stream",
          "text": [
            "Epoch [10/15], Step [560/678], Loss: 0.2380\n"
          ]
        },
        {
          "name": "stderr",
          "output_type": "stream",
          "text": [
            "581it [06:43,  1.40it/s]"
          ]
        },
        {
          "name": "stdout",
          "output_type": "stream",
          "text": [
            "Epoch [10/15], Step [580/678], Loss: 0.1446\n"
          ]
        },
        {
          "name": "stderr",
          "output_type": "stream",
          "text": [
            "601it [06:56,  1.47it/s]"
          ]
        },
        {
          "name": "stdout",
          "output_type": "stream",
          "text": [
            "Epoch [10/15], Step [600/678], Loss: 0.1920\n"
          ]
        },
        {
          "name": "stderr",
          "output_type": "stream",
          "text": [
            "621it [07:10,  1.45it/s]"
          ]
        },
        {
          "name": "stdout",
          "output_type": "stream",
          "text": [
            "Epoch [10/15], Step [620/678], Loss: 0.1614\n"
          ]
        },
        {
          "name": "stderr",
          "output_type": "stream",
          "text": [
            "641it [07:24,  1.45it/s]"
          ]
        },
        {
          "name": "stdout",
          "output_type": "stream",
          "text": [
            "Epoch [10/15], Step [640/678], Loss: 0.1321\n"
          ]
        },
        {
          "name": "stderr",
          "output_type": "stream",
          "text": [
            "661it [07:38,  1.35it/s]"
          ]
        },
        {
          "name": "stdout",
          "output_type": "stream",
          "text": [
            "Epoch [10/15], Step [660/678], Loss: 0.2065\n"
          ]
        },
        {
          "name": "stderr",
          "output_type": "stream",
          "text": [
            "678it [07:49,  1.44it/s]\n"
          ]
        },
        {
          "name": "stdout",
          "output_type": "stream",
          "text": [
            "\n",
            "train-loss: 0.5020, train-acc: 93.5996\n"
          ]
        },
        {
          "name": "stderr",
          "output_type": "stream",
          "text": [
            "100%|██████████| 86/86 [00:40<00:00,  2.15it/s]\n"
          ]
        },
        {
          "name": "stdout",
          "output_type": "stream",
          "text": [
            "validation loss: 1.0262, validation acc: 66.9436\n",
            "\n",
            "Epoch 11\n",
            "\n"
          ]
        },
        {
          "name": "stderr",
          "output_type": "stream",
          "text": [
            "1it [00:00,  1.48it/s]"
          ]
        },
        {
          "name": "stdout",
          "output_type": "stream",
          "text": [
            "Epoch [11/15], Step [0/678], Loss: 0.0938\n"
          ]
        },
        {
          "name": "stderr",
          "output_type": "stream",
          "text": [
            "21it [00:14,  1.42it/s]"
          ]
        },
        {
          "name": "stdout",
          "output_type": "stream",
          "text": [
            "Epoch [11/15], Step [20/678], Loss: 0.1101\n"
          ]
        },
        {
          "name": "stderr",
          "output_type": "stream",
          "text": [
            "41it [00:28,  1.49it/s]"
          ]
        },
        {
          "name": "stdout",
          "output_type": "stream",
          "text": [
            "Epoch [11/15], Step [40/678], Loss: 0.1349\n"
          ]
        },
        {
          "name": "stderr",
          "output_type": "stream",
          "text": [
            "61it [00:41,  1.47it/s]"
          ]
        },
        {
          "name": "stdout",
          "output_type": "stream",
          "text": [
            "Epoch [11/15], Step [60/678], Loss: 0.1552\n"
          ]
        },
        {
          "name": "stderr",
          "output_type": "stream",
          "text": [
            "81it [00:56,  1.41it/s]"
          ]
        },
        {
          "name": "stdout",
          "output_type": "stream",
          "text": [
            "Epoch [11/15], Step [80/678], Loss: 0.1928\n"
          ]
        },
        {
          "name": "stderr",
          "output_type": "stream",
          "text": [
            "101it [01:09,  1.45it/s]"
          ]
        },
        {
          "name": "stdout",
          "output_type": "stream",
          "text": [
            "Epoch [11/15], Step [100/678], Loss: 0.1588\n"
          ]
        },
        {
          "name": "stderr",
          "output_type": "stream",
          "text": [
            "121it [01:24,  1.48it/s]"
          ]
        },
        {
          "name": "stdout",
          "output_type": "stream",
          "text": [
            "Epoch [11/15], Step [120/678], Loss: 0.1004\n"
          ]
        },
        {
          "name": "stderr",
          "output_type": "stream",
          "text": [
            "141it [01:37,  1.44it/s]"
          ]
        },
        {
          "name": "stdout",
          "output_type": "stream",
          "text": [
            "Epoch [11/15], Step [140/678], Loss: 0.2555\n"
          ]
        },
        {
          "name": "stderr",
          "output_type": "stream",
          "text": [
            "161it [01:51,  1.46it/s]"
          ]
        },
        {
          "name": "stdout",
          "output_type": "stream",
          "text": [
            "Epoch [11/15], Step [160/678], Loss: 0.1443\n"
          ]
        },
        {
          "name": "stderr",
          "output_type": "stream",
          "text": [
            "181it [02:05,  1.48it/s]"
          ]
        },
        {
          "name": "stdout",
          "output_type": "stream",
          "text": [
            "Epoch [11/15], Step [180/678], Loss: 0.1787\n"
          ]
        },
        {
          "name": "stderr",
          "output_type": "stream",
          "text": [
            "201it [02:19,  1.38it/s]"
          ]
        },
        {
          "name": "stdout",
          "output_type": "stream",
          "text": [
            "Epoch [11/15], Step [200/678], Loss: 0.1191\n"
          ]
        },
        {
          "name": "stderr",
          "output_type": "stream",
          "text": [
            "221it [02:33,  1.44it/s]"
          ]
        },
        {
          "name": "stdout",
          "output_type": "stream",
          "text": [
            "Epoch [11/15], Step [220/678], Loss: 0.0917\n"
          ]
        },
        {
          "name": "stderr",
          "output_type": "stream",
          "text": [
            "241it [02:47,  1.44it/s]"
          ]
        },
        {
          "name": "stdout",
          "output_type": "stream",
          "text": [
            "Epoch [11/15], Step [240/678], Loss: 0.1147\n"
          ]
        },
        {
          "name": "stderr",
          "output_type": "stream",
          "text": [
            "261it [03:00,  1.47it/s]"
          ]
        },
        {
          "name": "stdout",
          "output_type": "stream",
          "text": [
            "Epoch [11/15], Step [260/678], Loss: 0.1167\n"
          ]
        },
        {
          "name": "stderr",
          "output_type": "stream",
          "text": [
            "281it [03:14,  1.45it/s]"
          ]
        },
        {
          "name": "stdout",
          "output_type": "stream",
          "text": [
            "Epoch [11/15], Step [280/678], Loss: 0.1776\n"
          ]
        },
        {
          "name": "stderr",
          "output_type": "stream",
          "text": [
            "301it [03:28,  1.44it/s]"
          ]
        },
        {
          "name": "stdout",
          "output_type": "stream",
          "text": [
            "Epoch [11/15], Step [300/678], Loss: 0.1229\n"
          ]
        },
        {
          "name": "stderr",
          "output_type": "stream",
          "text": [
            "321it [03:42,  1.47it/s]"
          ]
        },
        {
          "name": "stdout",
          "output_type": "stream",
          "text": [
            "Epoch [11/15], Step [320/678], Loss: 0.1382\n"
          ]
        },
        {
          "name": "stderr",
          "output_type": "stream",
          "text": [
            "341it [03:56,  1.45it/s]"
          ]
        },
        {
          "name": "stdout",
          "output_type": "stream",
          "text": [
            "Epoch [11/15], Step [340/678], Loss: 0.2635\n"
          ]
        },
        {
          "name": "stderr",
          "output_type": "stream",
          "text": [
            "361it [04:10,  1.44it/s]"
          ]
        },
        {
          "name": "stdout",
          "output_type": "stream",
          "text": [
            "Epoch [11/15], Step [360/678], Loss: 0.1540\n"
          ]
        },
        {
          "name": "stderr",
          "output_type": "stream",
          "text": [
            "381it [04:23,  1.40it/s]"
          ]
        },
        {
          "name": "stdout",
          "output_type": "stream",
          "text": [
            "Epoch [11/15], Step [380/678], Loss: 0.1835\n"
          ]
        },
        {
          "name": "stderr",
          "output_type": "stream",
          "text": [
            "401it [04:37,  1.48it/s]"
          ]
        },
        {
          "name": "stdout",
          "output_type": "stream",
          "text": [
            "Epoch [11/15], Step [400/678], Loss: 0.1427\n"
          ]
        },
        {
          "name": "stderr",
          "output_type": "stream",
          "text": [
            "421it [04:51,  1.45it/s]"
          ]
        },
        {
          "name": "stdout",
          "output_type": "stream",
          "text": [
            "Epoch [11/15], Step [420/678], Loss: 0.1552\n"
          ]
        },
        {
          "name": "stderr",
          "output_type": "stream",
          "text": [
            "441it [05:05,  1.49it/s]"
          ]
        },
        {
          "name": "stdout",
          "output_type": "stream",
          "text": [
            "Epoch [11/15], Step [440/678], Loss: 0.1377\n"
          ]
        },
        {
          "name": "stderr",
          "output_type": "stream",
          "text": [
            "461it [05:18,  1.45it/s]"
          ]
        },
        {
          "name": "stdout",
          "output_type": "stream",
          "text": [
            "Epoch [11/15], Step [460/678], Loss: 0.1746\n"
          ]
        },
        {
          "name": "stderr",
          "output_type": "stream",
          "text": [
            "481it [05:32,  1.47it/s]"
          ]
        },
        {
          "name": "stdout",
          "output_type": "stream",
          "text": [
            "Epoch [11/15], Step [480/678], Loss: 0.1852\n"
          ]
        },
        {
          "name": "stderr",
          "output_type": "stream",
          "text": [
            "501it [05:46,  1.47it/s]"
          ]
        },
        {
          "name": "stdout",
          "output_type": "stream",
          "text": [
            "Epoch [11/15], Step [500/678], Loss: 0.1408\n"
          ]
        },
        {
          "name": "stderr",
          "output_type": "stream",
          "text": [
            "521it [06:00,  1.40it/s]"
          ]
        },
        {
          "name": "stdout",
          "output_type": "stream",
          "text": [
            "Epoch [11/15], Step [520/678], Loss: 0.1144\n"
          ]
        },
        {
          "name": "stderr",
          "output_type": "stream",
          "text": [
            "541it [06:14,  1.46it/s]"
          ]
        },
        {
          "name": "stdout",
          "output_type": "stream",
          "text": [
            "Epoch [11/15], Step [540/678], Loss: 0.1159\n"
          ]
        },
        {
          "name": "stderr",
          "output_type": "stream",
          "text": [
            "561it [06:27,  1.48it/s]"
          ]
        },
        {
          "name": "stdout",
          "output_type": "stream",
          "text": [
            "Epoch [11/15], Step [560/678], Loss: 0.1514\n"
          ]
        },
        {
          "name": "stderr",
          "output_type": "stream",
          "text": [
            "581it [06:41,  1.46it/s]"
          ]
        },
        {
          "name": "stdout",
          "output_type": "stream",
          "text": [
            "Epoch [11/15], Step [580/678], Loss: 0.2051\n"
          ]
        },
        {
          "name": "stderr",
          "output_type": "stream",
          "text": [
            "601it [06:55,  1.41it/s]"
          ]
        },
        {
          "name": "stdout",
          "output_type": "stream",
          "text": [
            "Epoch [11/15], Step [600/678], Loss: 0.1248\n"
          ]
        },
        {
          "name": "stderr",
          "output_type": "stream",
          "text": [
            "621it [07:09,  1.40it/s]"
          ]
        },
        {
          "name": "stdout",
          "output_type": "stream",
          "text": [
            "Epoch [11/15], Step [620/678], Loss: 0.1444\n"
          ]
        },
        {
          "name": "stderr",
          "output_type": "stream",
          "text": [
            "641it [07:23,  1.46it/s]"
          ]
        },
        {
          "name": "stdout",
          "output_type": "stream",
          "text": [
            "Epoch [11/15], Step [640/678], Loss: 0.1872\n"
          ]
        },
        {
          "name": "stderr",
          "output_type": "stream",
          "text": [
            "661it [07:37,  1.42it/s]"
          ]
        },
        {
          "name": "stdout",
          "output_type": "stream",
          "text": [
            "Epoch [11/15], Step [660/678], Loss: 0.1262\n"
          ]
        },
        {
          "name": "stderr",
          "output_type": "stream",
          "text": [
            "678it [07:49,  1.44it/s]\n"
          ]
        },
        {
          "name": "stdout",
          "output_type": "stream",
          "text": [
            "\n",
            "train-loss: 0.4706, train-acc: 94.5921\n"
          ]
        },
        {
          "name": "stderr",
          "output_type": "stream",
          "text": [
            "100%|██████████| 86/86 [00:41<00:00,  2.08it/s]\n"
          ]
        },
        {
          "name": "stdout",
          "output_type": "stream",
          "text": [
            "validation loss: 1.0613, validation acc: 66.2041\n",
            "\n",
            "Epoch 12\n",
            "\n"
          ]
        },
        {
          "name": "stderr",
          "output_type": "stream",
          "text": [
            "1it [00:00,  1.47it/s]"
          ]
        },
        {
          "name": "stdout",
          "output_type": "stream",
          "text": [
            "Epoch [12/15], Step [0/678], Loss: 0.2403\n"
          ]
        },
        {
          "name": "stderr",
          "output_type": "stream",
          "text": [
            "21it [00:14,  1.43it/s]"
          ]
        },
        {
          "name": "stdout",
          "output_type": "stream",
          "text": [
            "Epoch [12/15], Step [20/678], Loss: 0.0932\n"
          ]
        },
        {
          "name": "stderr",
          "output_type": "stream",
          "text": [
            "41it [00:29,  1.42it/s]"
          ]
        },
        {
          "name": "stdout",
          "output_type": "stream",
          "text": [
            "Epoch [12/15], Step [40/678], Loss: 0.1679\n"
          ]
        },
        {
          "name": "stderr",
          "output_type": "stream",
          "text": [
            "61it [00:43,  1.40it/s]"
          ]
        },
        {
          "name": "stdout",
          "output_type": "stream",
          "text": [
            "Epoch [12/15], Step [60/678], Loss: 0.1213\n"
          ]
        },
        {
          "name": "stderr",
          "output_type": "stream",
          "text": [
            "81it [00:57,  1.39it/s]"
          ]
        },
        {
          "name": "stdout",
          "output_type": "stream",
          "text": [
            "Epoch [12/15], Step [80/678], Loss: 0.1721\n"
          ]
        },
        {
          "name": "stderr",
          "output_type": "stream",
          "text": [
            "101it [01:11,  1.39it/s]"
          ]
        },
        {
          "name": "stdout",
          "output_type": "stream",
          "text": [
            "Epoch [12/15], Step [100/678], Loss: 0.0770\n"
          ]
        },
        {
          "name": "stderr",
          "output_type": "stream",
          "text": [
            "121it [01:26,  1.36it/s]"
          ]
        },
        {
          "name": "stdout",
          "output_type": "stream",
          "text": [
            "Epoch [12/15], Step [120/678], Loss: 0.1256\n"
          ]
        },
        {
          "name": "stderr",
          "output_type": "stream",
          "text": [
            "141it [01:40,  1.44it/s]"
          ]
        },
        {
          "name": "stdout",
          "output_type": "stream",
          "text": [
            "Epoch [12/15], Step [140/678], Loss: 0.0931\n"
          ]
        },
        {
          "name": "stderr",
          "output_type": "stream",
          "text": [
            "161it [01:54,  1.40it/s]"
          ]
        },
        {
          "name": "stdout",
          "output_type": "stream",
          "text": [
            "Epoch [12/15], Step [160/678], Loss: 0.1061\n"
          ]
        },
        {
          "name": "stderr",
          "output_type": "stream",
          "text": [
            "181it [02:08,  1.42it/s]"
          ]
        },
        {
          "name": "stdout",
          "output_type": "stream",
          "text": [
            "Epoch [12/15], Step [180/678], Loss: 0.2000\n"
          ]
        },
        {
          "name": "stderr",
          "output_type": "stream",
          "text": [
            "201it [02:22,  1.47it/s]"
          ]
        },
        {
          "name": "stdout",
          "output_type": "stream",
          "text": [
            "Epoch [12/15], Step [200/678], Loss: 0.1139\n"
          ]
        },
        {
          "name": "stderr",
          "output_type": "stream",
          "text": [
            "221it [02:36,  1.47it/s]"
          ]
        },
        {
          "name": "stdout",
          "output_type": "stream",
          "text": [
            "Epoch [12/15], Step [220/678], Loss: 0.0937\n"
          ]
        },
        {
          "name": "stderr",
          "output_type": "stream",
          "text": [
            "241it [02:50,  1.39it/s]"
          ]
        },
        {
          "name": "stdout",
          "output_type": "stream",
          "text": [
            "Epoch [12/15], Step [240/678], Loss: 0.0854\n"
          ]
        },
        {
          "name": "stderr",
          "output_type": "stream",
          "text": [
            "261it [03:04,  1.41it/s]"
          ]
        },
        {
          "name": "stdout",
          "output_type": "stream",
          "text": [
            "Epoch [12/15], Step [260/678], Loss: 0.1391\n"
          ]
        },
        {
          "name": "stderr",
          "output_type": "stream",
          "text": [
            "281it [03:18,  1.44it/s]"
          ]
        },
        {
          "name": "stdout",
          "output_type": "stream",
          "text": [
            "Epoch [12/15], Step [280/678], Loss: 0.1803\n"
          ]
        },
        {
          "name": "stderr",
          "output_type": "stream",
          "text": [
            "301it [03:32,  1.45it/s]"
          ]
        },
        {
          "name": "stdout",
          "output_type": "stream",
          "text": [
            "Epoch [12/15], Step [300/678], Loss: 0.1314\n"
          ]
        },
        {
          "name": "stderr",
          "output_type": "stream",
          "text": [
            "321it [03:46,  1.45it/s]"
          ]
        },
        {
          "name": "stdout",
          "output_type": "stream",
          "text": [
            "Epoch [12/15], Step [320/678], Loss: 0.1678\n"
          ]
        },
        {
          "name": "stderr",
          "output_type": "stream",
          "text": [
            "341it [04:00,  1.44it/s]"
          ]
        },
        {
          "name": "stdout",
          "output_type": "stream",
          "text": [
            "Epoch [12/15], Step [340/678], Loss: 0.1296\n"
          ]
        },
        {
          "name": "stderr",
          "output_type": "stream",
          "text": [
            "361it [04:14,  1.46it/s]"
          ]
        },
        {
          "name": "stdout",
          "output_type": "stream",
          "text": [
            "Epoch [12/15], Step [360/678], Loss: 0.1648\n"
          ]
        },
        {
          "name": "stderr",
          "output_type": "stream",
          "text": [
            "381it [04:28,  1.41it/s]"
          ]
        },
        {
          "name": "stdout",
          "output_type": "stream",
          "text": [
            "Epoch [12/15], Step [380/678], Loss: 0.2683\n"
          ]
        },
        {
          "name": "stderr",
          "output_type": "stream",
          "text": [
            "401it [04:42,  1.42it/s]"
          ]
        },
        {
          "name": "stdout",
          "output_type": "stream",
          "text": [
            "Epoch [12/15], Step [400/678], Loss: 0.2063\n"
          ]
        },
        {
          "name": "stderr",
          "output_type": "stream",
          "text": [
            "421it [04:56,  1.46it/s]"
          ]
        },
        {
          "name": "stdout",
          "output_type": "stream",
          "text": [
            "Epoch [12/15], Step [420/678], Loss: 0.1304\n"
          ]
        },
        {
          "name": "stderr",
          "output_type": "stream",
          "text": [
            "441it [05:10,  1.43it/s]"
          ]
        },
        {
          "name": "stdout",
          "output_type": "stream",
          "text": [
            "Epoch [12/15], Step [440/678], Loss: 0.1565\n"
          ]
        },
        {
          "name": "stderr",
          "output_type": "stream",
          "text": [
            "461it [05:24,  1.39it/s]"
          ]
        },
        {
          "name": "stdout",
          "output_type": "stream",
          "text": [
            "Epoch [12/15], Step [460/678], Loss: 0.1799\n"
          ]
        },
        {
          "name": "stderr",
          "output_type": "stream",
          "text": [
            "481it [05:38,  1.44it/s]"
          ]
        },
        {
          "name": "stdout",
          "output_type": "stream",
          "text": [
            "Epoch [12/15], Step [480/678], Loss: 0.1082\n"
          ]
        },
        {
          "name": "stderr",
          "output_type": "stream",
          "text": [
            "501it [05:52,  1.48it/s]"
          ]
        },
        {
          "name": "stdout",
          "output_type": "stream",
          "text": [
            "Epoch [12/15], Step [500/678], Loss: 0.1300\n"
          ]
        },
        {
          "name": "stderr",
          "output_type": "stream",
          "text": [
            "521it [06:06,  1.39it/s]"
          ]
        },
        {
          "name": "stdout",
          "output_type": "stream",
          "text": [
            "Epoch [12/15], Step [520/678], Loss: 0.1382\n"
          ]
        },
        {
          "name": "stderr",
          "output_type": "stream",
          "text": [
            "541it [06:20,  1.43it/s]"
          ]
        },
        {
          "name": "stdout",
          "output_type": "stream",
          "text": [
            "Epoch [12/15], Step [540/678], Loss: 0.2520\n"
          ]
        },
        {
          "name": "stderr",
          "output_type": "stream",
          "text": [
            "561it [06:34,  1.40it/s]"
          ]
        },
        {
          "name": "stdout",
          "output_type": "stream",
          "text": [
            "Epoch [12/15], Step [560/678], Loss: 0.0912\n"
          ]
        },
        {
          "name": "stderr",
          "output_type": "stream",
          "text": [
            "581it [06:48,  1.46it/s]"
          ]
        },
        {
          "name": "stdout",
          "output_type": "stream",
          "text": [
            "Epoch [12/15], Step [580/678], Loss: 0.2984\n"
          ]
        },
        {
          "name": "stderr",
          "output_type": "stream",
          "text": [
            "601it [07:03,  1.40it/s]"
          ]
        },
        {
          "name": "stdout",
          "output_type": "stream",
          "text": [
            "Epoch [12/15], Step [600/678], Loss: 0.1441\n"
          ]
        },
        {
          "name": "stderr",
          "output_type": "stream",
          "text": [
            "621it [07:17,  1.48it/s]"
          ]
        },
        {
          "name": "stdout",
          "output_type": "stream",
          "text": [
            "Epoch [12/15], Step [620/678], Loss: 0.2416\n"
          ]
        },
        {
          "name": "stderr",
          "output_type": "stream",
          "text": [
            "641it [07:31,  1.42it/s]"
          ]
        },
        {
          "name": "stdout",
          "output_type": "stream",
          "text": [
            "Epoch [12/15], Step [640/678], Loss: 0.1102\n"
          ]
        },
        {
          "name": "stderr",
          "output_type": "stream",
          "text": [
            "661it [07:45,  1.45it/s]"
          ]
        },
        {
          "name": "stdout",
          "output_type": "stream",
          "text": [
            "Epoch [12/15], Step [660/678], Loss: 0.2038\n"
          ]
        },
        {
          "name": "stderr",
          "output_type": "stream",
          "text": [
            "678it [07:56,  1.42it/s]\n"
          ]
        },
        {
          "name": "stdout",
          "output_type": "stream",
          "text": [
            "\n",
            "train-loss: 0.4426, train-acc: 95.2781\n"
          ]
        },
        {
          "name": "stderr",
          "output_type": "stream",
          "text": [
            "100%|██████████| 86/86 [00:41<00:00,  2.07it/s]\n"
          ]
        },
        {
          "name": "stdout",
          "output_type": "stream",
          "text": [
            "validation loss: 1.0903, validation acc: 67.1079\n",
            "\n",
            "Epoch 13\n",
            "\n"
          ]
        },
        {
          "name": "stderr",
          "output_type": "stream",
          "text": [
            "1it [00:00,  1.37it/s]"
          ]
        },
        {
          "name": "stdout",
          "output_type": "stream",
          "text": [
            "Epoch [13/15], Step [0/678], Loss: 0.0689\n"
          ]
        },
        {
          "name": "stderr",
          "output_type": "stream",
          "text": [
            "21it [00:14,  1.40it/s]"
          ]
        },
        {
          "name": "stdout",
          "output_type": "stream",
          "text": [
            "Epoch [13/15], Step [20/678], Loss: 0.0888\n"
          ]
        },
        {
          "name": "stderr",
          "output_type": "stream",
          "text": [
            "41it [00:29,  1.39it/s]"
          ]
        },
        {
          "name": "stdout",
          "output_type": "stream",
          "text": [
            "Epoch [13/15], Step [40/678], Loss: 0.1047\n"
          ]
        },
        {
          "name": "stderr",
          "output_type": "stream",
          "text": [
            "61it [00:43,  1.46it/s]"
          ]
        },
        {
          "name": "stdout",
          "output_type": "stream",
          "text": [
            "Epoch [13/15], Step [60/678], Loss: 0.1550\n"
          ]
        },
        {
          "name": "stderr",
          "output_type": "stream",
          "text": [
            "81it [00:57,  1.41it/s]"
          ]
        },
        {
          "name": "stdout",
          "output_type": "stream",
          "text": [
            "Epoch [13/15], Step [80/678], Loss: 0.1205\n"
          ]
        },
        {
          "name": "stderr",
          "output_type": "stream",
          "text": [
            "101it [01:11,  1.45it/s]"
          ]
        },
        {
          "name": "stdout",
          "output_type": "stream",
          "text": [
            "Epoch [13/15], Step [100/678], Loss: 0.0488\n"
          ]
        },
        {
          "name": "stderr",
          "output_type": "stream",
          "text": [
            "121it [01:25,  1.45it/s]"
          ]
        },
        {
          "name": "stdout",
          "output_type": "stream",
          "text": [
            "Epoch [13/15], Step [120/678], Loss: 0.0735\n"
          ]
        },
        {
          "name": "stderr",
          "output_type": "stream",
          "text": [
            "141it [01:39,  1.44it/s]"
          ]
        },
        {
          "name": "stdout",
          "output_type": "stream",
          "text": [
            "Epoch [13/15], Step [140/678], Loss: 0.0754\n"
          ]
        },
        {
          "name": "stderr",
          "output_type": "stream",
          "text": [
            "161it [01:53,  1.42it/s]"
          ]
        },
        {
          "name": "stdout",
          "output_type": "stream",
          "text": [
            "Epoch [13/15], Step [160/678], Loss: 0.0848\n"
          ]
        },
        {
          "name": "stderr",
          "output_type": "stream",
          "text": [
            "181it [02:07,  1.38it/s]"
          ]
        },
        {
          "name": "stdout",
          "output_type": "stream",
          "text": [
            "Epoch [13/15], Step [180/678], Loss: 0.1006\n"
          ]
        },
        {
          "name": "stderr",
          "output_type": "stream",
          "text": [
            "201it [02:21,  1.43it/s]"
          ]
        },
        {
          "name": "stdout",
          "output_type": "stream",
          "text": [
            "Epoch [13/15], Step [200/678], Loss: 0.1884\n"
          ]
        },
        {
          "name": "stderr",
          "output_type": "stream",
          "text": [
            "221it [02:36,  1.42it/s]"
          ]
        },
        {
          "name": "stdout",
          "output_type": "stream",
          "text": [
            "Epoch [13/15], Step [220/678], Loss: 0.0931\n"
          ]
        },
        {
          "name": "stderr",
          "output_type": "stream",
          "text": [
            "241it [02:50,  1.46it/s]"
          ]
        },
        {
          "name": "stdout",
          "output_type": "stream",
          "text": [
            "Epoch [13/15], Step [240/678], Loss: 0.1646\n"
          ]
        },
        {
          "name": "stderr",
          "output_type": "stream",
          "text": [
            "261it [03:04,  1.38it/s]"
          ]
        },
        {
          "name": "stdout",
          "output_type": "stream",
          "text": [
            "Epoch [13/15], Step [260/678], Loss: 0.0889\n"
          ]
        },
        {
          "name": "stderr",
          "output_type": "stream",
          "text": [
            "281it [03:18,  1.41it/s]"
          ]
        },
        {
          "name": "stdout",
          "output_type": "stream",
          "text": [
            "Epoch [13/15], Step [280/678], Loss: 0.0723\n"
          ]
        },
        {
          "name": "stderr",
          "output_type": "stream",
          "text": [
            "301it [03:32,  1.37it/s]"
          ]
        },
        {
          "name": "stdout",
          "output_type": "stream",
          "text": [
            "Epoch [13/15], Step [300/678], Loss: 0.0779\n"
          ]
        },
        {
          "name": "stderr",
          "output_type": "stream",
          "text": [
            "321it [03:46,  1.41it/s]"
          ]
        },
        {
          "name": "stdout",
          "output_type": "stream",
          "text": [
            "Epoch [13/15], Step [320/678], Loss: 0.1238\n"
          ]
        },
        {
          "name": "stderr",
          "output_type": "stream",
          "text": [
            "341it [04:00,  1.43it/s]"
          ]
        },
        {
          "name": "stdout",
          "output_type": "stream",
          "text": [
            "Epoch [13/15], Step [340/678], Loss: 0.0861\n"
          ]
        },
        {
          "name": "stderr",
          "output_type": "stream",
          "text": [
            "361it [04:14,  1.40it/s]"
          ]
        },
        {
          "name": "stdout",
          "output_type": "stream",
          "text": [
            "Epoch [13/15], Step [360/678], Loss: 0.0627\n"
          ]
        },
        {
          "name": "stderr",
          "output_type": "stream",
          "text": [
            "381it [04:28,  1.42it/s]"
          ]
        },
        {
          "name": "stdout",
          "output_type": "stream",
          "text": [
            "Epoch [13/15], Step [380/678], Loss: 0.0761\n"
          ]
        },
        {
          "name": "stderr",
          "output_type": "stream",
          "text": [
            "401it [04:42,  1.47it/s]"
          ]
        },
        {
          "name": "stdout",
          "output_type": "stream",
          "text": [
            "Epoch [13/15], Step [400/678], Loss: 0.1506\n"
          ]
        },
        {
          "name": "stderr",
          "output_type": "stream",
          "text": [
            "421it [04:56,  1.44it/s]"
          ]
        },
        {
          "name": "stdout",
          "output_type": "stream",
          "text": [
            "Epoch [13/15], Step [420/678], Loss: 0.1727\n"
          ]
        },
        {
          "name": "stderr",
          "output_type": "stream",
          "text": [
            "441it [05:10,  1.42it/s]"
          ]
        },
        {
          "name": "stdout",
          "output_type": "stream",
          "text": [
            "Epoch [13/15], Step [440/678], Loss: 0.0598\n"
          ]
        },
        {
          "name": "stderr",
          "output_type": "stream",
          "text": [
            "461it [05:24,  1.44it/s]"
          ]
        },
        {
          "name": "stdout",
          "output_type": "stream",
          "text": [
            "Epoch [13/15], Step [460/678], Loss: 0.0602\n"
          ]
        },
        {
          "name": "stderr",
          "output_type": "stream",
          "text": [
            "481it [05:38,  1.46it/s]"
          ]
        },
        {
          "name": "stdout",
          "output_type": "stream",
          "text": [
            "Epoch [13/15], Step [480/678], Loss: 0.0933\n"
          ]
        },
        {
          "name": "stderr",
          "output_type": "stream",
          "text": [
            "501it [05:52,  1.46it/s]"
          ]
        },
        {
          "name": "stdout",
          "output_type": "stream",
          "text": [
            "Epoch [13/15], Step [500/678], Loss: 0.2407\n"
          ]
        },
        {
          "name": "stderr",
          "output_type": "stream",
          "text": [
            "521it [06:06,  1.40it/s]"
          ]
        },
        {
          "name": "stdout",
          "output_type": "stream",
          "text": [
            "Epoch [13/15], Step [520/678], Loss: 0.1807\n"
          ]
        },
        {
          "name": "stderr",
          "output_type": "stream",
          "text": [
            "541it [06:20,  1.45it/s]"
          ]
        },
        {
          "name": "stdout",
          "output_type": "stream",
          "text": [
            "Epoch [13/15], Step [540/678], Loss: 0.1416\n"
          ]
        },
        {
          "name": "stderr",
          "output_type": "stream",
          "text": [
            "561it [06:34,  1.48it/s]"
          ]
        },
        {
          "name": "stdout",
          "output_type": "stream",
          "text": [
            "Epoch [13/15], Step [560/678], Loss: 0.1341\n"
          ]
        },
        {
          "name": "stderr",
          "output_type": "stream",
          "text": [
            "581it [06:48,  1.39it/s]"
          ]
        },
        {
          "name": "stdout",
          "output_type": "stream",
          "text": [
            "Epoch [13/15], Step [580/678], Loss: 0.2231\n"
          ]
        },
        {
          "name": "stderr",
          "output_type": "stream",
          "text": [
            "601it [07:02,  1.43it/s]"
          ]
        },
        {
          "name": "stdout",
          "output_type": "stream",
          "text": [
            "Epoch [13/15], Step [600/678], Loss: 0.0837\n"
          ]
        },
        {
          "name": "stderr",
          "output_type": "stream",
          "text": [
            "621it [07:16,  1.41it/s]"
          ]
        },
        {
          "name": "stdout",
          "output_type": "stream",
          "text": [
            "Epoch [13/15], Step [620/678], Loss: 0.1692\n"
          ]
        },
        {
          "name": "stderr",
          "output_type": "stream",
          "text": [
            "641it [07:30,  1.42it/s]"
          ]
        },
        {
          "name": "stdout",
          "output_type": "stream",
          "text": [
            "Epoch [13/15], Step [640/678], Loss: 0.1336\n"
          ]
        },
        {
          "name": "stderr",
          "output_type": "stream",
          "text": [
            "661it [07:44,  1.47it/s]"
          ]
        },
        {
          "name": "stdout",
          "output_type": "stream",
          "text": [
            "Epoch [13/15], Step [660/678], Loss: 0.0552\n"
          ]
        },
        {
          "name": "stderr",
          "output_type": "stream",
          "text": [
            "678it [07:56,  1.42it/s]\n"
          ]
        },
        {
          "name": "stdout",
          "output_type": "stream",
          "text": [
            "\n",
            "train-loss: 0.4180, train-acc: 95.6746\n"
          ]
        },
        {
          "name": "stderr",
          "output_type": "stream",
          "text": [
            "100%|██████████| 86/86 [00:40<00:00,  2.12it/s]\n"
          ]
        },
        {
          "name": "stdout",
          "output_type": "stream",
          "text": [
            "validation loss: 1.1196, validation acc: 67.3270\n",
            "\n",
            "Epoch 14\n",
            "\n"
          ]
        },
        {
          "name": "stderr",
          "output_type": "stream",
          "text": [
            "1it [00:00,  1.44it/s]"
          ]
        },
        {
          "name": "stdout",
          "output_type": "stream",
          "text": [
            "Epoch [14/15], Step [0/678], Loss: 0.0997\n"
          ]
        },
        {
          "name": "stderr",
          "output_type": "stream",
          "text": [
            "21it [00:14,  1.39it/s]"
          ]
        },
        {
          "name": "stdout",
          "output_type": "stream",
          "text": [
            "Epoch [14/15], Step [20/678], Loss: 0.0956\n"
          ]
        },
        {
          "name": "stderr",
          "output_type": "stream",
          "text": [
            "41it [00:28,  1.44it/s]"
          ]
        },
        {
          "name": "stdout",
          "output_type": "stream",
          "text": [
            "Epoch [14/15], Step [40/678], Loss: 0.0634\n"
          ]
        },
        {
          "name": "stderr",
          "output_type": "stream",
          "text": [
            "61it [00:42,  1.44it/s]"
          ]
        },
        {
          "name": "stdout",
          "output_type": "stream",
          "text": [
            "Epoch [14/15], Step [60/678], Loss: 0.0613\n"
          ]
        },
        {
          "name": "stderr",
          "output_type": "stream",
          "text": [
            "81it [00:56,  1.45it/s]"
          ]
        },
        {
          "name": "stdout",
          "output_type": "stream",
          "text": [
            "Epoch [14/15], Step [80/678], Loss: 0.1529\n"
          ]
        },
        {
          "name": "stderr",
          "output_type": "stream",
          "text": [
            "101it [01:10,  1.41it/s]"
          ]
        },
        {
          "name": "stdout",
          "output_type": "stream",
          "text": [
            "Epoch [14/15], Step [100/678], Loss: 0.1061\n"
          ]
        },
        {
          "name": "stderr",
          "output_type": "stream",
          "text": [
            "121it [01:24,  1.43it/s]"
          ]
        },
        {
          "name": "stdout",
          "output_type": "stream",
          "text": [
            "Epoch [14/15], Step [120/678], Loss: 0.0643\n"
          ]
        },
        {
          "name": "stderr",
          "output_type": "stream",
          "text": [
            "141it [01:38,  1.41it/s]"
          ]
        },
        {
          "name": "stdout",
          "output_type": "stream",
          "text": [
            "Epoch [14/15], Step [140/678], Loss: 0.0611\n"
          ]
        },
        {
          "name": "stderr",
          "output_type": "stream",
          "text": [
            "161it [01:53,  1.34it/s]"
          ]
        },
        {
          "name": "stdout",
          "output_type": "stream",
          "text": [
            "Epoch [14/15], Step [160/678], Loss: 0.0800\n"
          ]
        },
        {
          "name": "stderr",
          "output_type": "stream",
          "text": [
            "181it [02:07,  1.39it/s]"
          ]
        },
        {
          "name": "stdout",
          "output_type": "stream",
          "text": [
            "Epoch [14/15], Step [180/678], Loss: 0.0926\n"
          ]
        },
        {
          "name": "stderr",
          "output_type": "stream",
          "text": [
            "201it [02:21,  1.43it/s]"
          ]
        },
        {
          "name": "stdout",
          "output_type": "stream",
          "text": [
            "Epoch [14/15], Step [200/678], Loss: 0.0772\n"
          ]
        },
        {
          "name": "stderr",
          "output_type": "stream",
          "text": [
            "221it [02:35,  1.46it/s]"
          ]
        },
        {
          "name": "stdout",
          "output_type": "stream",
          "text": [
            "Epoch [14/15], Step [220/678], Loss: 0.1241\n"
          ]
        },
        {
          "name": "stderr",
          "output_type": "stream",
          "text": [
            "241it [02:49,  1.33it/s]"
          ]
        },
        {
          "name": "stdout",
          "output_type": "stream",
          "text": [
            "Epoch [14/15], Step [240/678], Loss: 0.1685\n"
          ]
        },
        {
          "name": "stderr",
          "output_type": "stream",
          "text": [
            "261it [03:03,  1.46it/s]"
          ]
        },
        {
          "name": "stdout",
          "output_type": "stream",
          "text": [
            "Epoch [14/15], Step [260/678], Loss: 0.1661\n"
          ]
        },
        {
          "name": "stderr",
          "output_type": "stream",
          "text": [
            "281it [03:17,  1.46it/s]"
          ]
        },
        {
          "name": "stdout",
          "output_type": "stream",
          "text": [
            "Epoch [14/15], Step [280/678], Loss: 0.0850\n"
          ]
        },
        {
          "name": "stderr",
          "output_type": "stream",
          "text": [
            "301it [03:32,  1.41it/s]"
          ]
        },
        {
          "name": "stdout",
          "output_type": "stream",
          "text": [
            "Epoch [14/15], Step [300/678], Loss: 0.2087\n"
          ]
        },
        {
          "name": "stderr",
          "output_type": "stream",
          "text": [
            "321it [03:46,  1.43it/s]"
          ]
        },
        {
          "name": "stdout",
          "output_type": "stream",
          "text": [
            "Epoch [14/15], Step [320/678], Loss: 0.1491\n"
          ]
        },
        {
          "name": "stderr",
          "output_type": "stream",
          "text": [
            "341it [04:00,  1.42it/s]"
          ]
        },
        {
          "name": "stdout",
          "output_type": "stream",
          "text": [
            "Epoch [14/15], Step [340/678], Loss: 0.0856\n"
          ]
        },
        {
          "name": "stderr",
          "output_type": "stream",
          "text": [
            "361it [04:14,  1.42it/s]"
          ]
        },
        {
          "name": "stdout",
          "output_type": "stream",
          "text": [
            "Epoch [14/15], Step [360/678], Loss: 0.1050\n"
          ]
        },
        {
          "name": "stderr",
          "output_type": "stream",
          "text": [
            "381it [04:29,  1.34it/s]"
          ]
        },
        {
          "name": "stdout",
          "output_type": "stream",
          "text": [
            "Epoch [14/15], Step [380/678], Loss: 0.0816\n"
          ]
        },
        {
          "name": "stderr",
          "output_type": "stream",
          "text": [
            "401it [04:42,  1.43it/s]"
          ]
        },
        {
          "name": "stdout",
          "output_type": "stream",
          "text": [
            "Epoch [14/15], Step [400/678], Loss: 0.1767\n"
          ]
        },
        {
          "name": "stderr",
          "output_type": "stream",
          "text": [
            "421it [04:57,  1.36it/s]"
          ]
        },
        {
          "name": "stdout",
          "output_type": "stream",
          "text": [
            "Epoch [14/15], Step [420/678], Loss: 0.1493\n"
          ]
        },
        {
          "name": "stderr",
          "output_type": "stream",
          "text": [
            "441it [05:11,  1.34it/s]"
          ]
        },
        {
          "name": "stdout",
          "output_type": "stream",
          "text": [
            "Epoch [14/15], Step [440/678], Loss: 0.1163\n"
          ]
        },
        {
          "name": "stderr",
          "output_type": "stream",
          "text": [
            "461it [05:25,  1.41it/s]"
          ]
        },
        {
          "name": "stdout",
          "output_type": "stream",
          "text": [
            "Epoch [14/15], Step [460/678], Loss: 0.0570\n"
          ]
        },
        {
          "name": "stderr",
          "output_type": "stream",
          "text": [
            "481it [05:39,  1.42it/s]"
          ]
        },
        {
          "name": "stdout",
          "output_type": "stream",
          "text": [
            "Epoch [14/15], Step [480/678], Loss: 0.1146\n"
          ]
        },
        {
          "name": "stderr",
          "output_type": "stream",
          "text": [
            "501it [05:53,  1.43it/s]"
          ]
        },
        {
          "name": "stdout",
          "output_type": "stream",
          "text": [
            "Epoch [14/15], Step [500/678], Loss: 0.0568\n"
          ]
        },
        {
          "name": "stderr",
          "output_type": "stream",
          "text": [
            "521it [06:08,  1.43it/s]"
          ]
        },
        {
          "name": "stdout",
          "output_type": "stream",
          "text": [
            "Epoch [14/15], Step [520/678], Loss: 0.1778\n"
          ]
        },
        {
          "name": "stderr",
          "output_type": "stream",
          "text": [
            "541it [06:21,  1.46it/s]"
          ]
        },
        {
          "name": "stdout",
          "output_type": "stream",
          "text": [
            "Epoch [14/15], Step [540/678], Loss: 0.0604\n"
          ]
        },
        {
          "name": "stderr",
          "output_type": "stream",
          "text": [
            "561it [06:36,  1.40it/s]"
          ]
        },
        {
          "name": "stdout",
          "output_type": "stream",
          "text": [
            "Epoch [14/15], Step [560/678], Loss: 0.1759\n"
          ]
        },
        {
          "name": "stderr",
          "output_type": "stream",
          "text": [
            "581it [06:50,  1.36it/s]"
          ]
        },
        {
          "name": "stdout",
          "output_type": "stream",
          "text": [
            "Epoch [14/15], Step [580/678], Loss: 0.1107\n"
          ]
        },
        {
          "name": "stderr",
          "output_type": "stream",
          "text": [
            "601it [07:04,  1.32it/s]"
          ]
        },
        {
          "name": "stdout",
          "output_type": "stream",
          "text": [
            "Epoch [14/15], Step [600/678], Loss: 0.1367\n"
          ]
        },
        {
          "name": "stderr",
          "output_type": "stream",
          "text": [
            "621it [07:18,  1.42it/s]"
          ]
        },
        {
          "name": "stdout",
          "output_type": "stream",
          "text": [
            "Epoch [14/15], Step [620/678], Loss: 0.0809\n"
          ]
        },
        {
          "name": "stderr",
          "output_type": "stream",
          "text": [
            "641it [07:32,  1.43it/s]"
          ]
        },
        {
          "name": "stdout",
          "output_type": "stream",
          "text": [
            "Epoch [14/15], Step [640/678], Loss: 0.1349\n"
          ]
        },
        {
          "name": "stderr",
          "output_type": "stream",
          "text": [
            "661it [07:47,  1.42it/s]"
          ]
        },
        {
          "name": "stdout",
          "output_type": "stream",
          "text": [
            "Epoch [14/15], Step [660/678], Loss: 0.1249\n"
          ]
        },
        {
          "name": "stderr",
          "output_type": "stream",
          "text": [
            "678it [07:59,  1.41it/s]\n"
          ]
        },
        {
          "name": "stdout",
          "output_type": "stream",
          "text": [
            "\n",
            "train-loss: 0.3960, train-acc: 96.0597\n"
          ]
        },
        {
          "name": "stderr",
          "output_type": "stream",
          "text": [
            "100%|██████████| 86/86 [00:42<00:00,  2.04it/s]\n"
          ]
        },
        {
          "name": "stdout",
          "output_type": "stream",
          "text": [
            "validation loss: 1.1476, validation acc: 66.3684\n",
            "\n",
            "Epoch 15\n",
            "\n"
          ]
        },
        {
          "name": "stderr",
          "output_type": "stream",
          "text": [
            "1it [00:00,  1.47it/s]"
          ]
        },
        {
          "name": "stdout",
          "output_type": "stream",
          "text": [
            "Epoch [15/15], Step [0/678], Loss: 0.0822\n"
          ]
        },
        {
          "name": "stderr",
          "output_type": "stream",
          "text": [
            "21it [00:15,  1.42it/s]"
          ]
        },
        {
          "name": "stdout",
          "output_type": "stream",
          "text": [
            "Epoch [15/15], Step [20/678], Loss: 0.1518\n"
          ]
        },
        {
          "name": "stderr",
          "output_type": "stream",
          "text": [
            "41it [00:29,  1.36it/s]"
          ]
        },
        {
          "name": "stdout",
          "output_type": "stream",
          "text": [
            "Epoch [15/15], Step [40/678], Loss: 0.0937\n"
          ]
        },
        {
          "name": "stderr",
          "output_type": "stream",
          "text": [
            "61it [00:44,  1.39it/s]"
          ]
        },
        {
          "name": "stdout",
          "output_type": "stream",
          "text": [
            "Epoch [15/15], Step [60/678], Loss: 0.1693\n"
          ]
        },
        {
          "name": "stderr",
          "output_type": "stream",
          "text": [
            "81it [00:58,  1.37it/s]"
          ]
        },
        {
          "name": "stdout",
          "output_type": "stream",
          "text": [
            "Epoch [15/15], Step [80/678], Loss: 0.0868\n"
          ]
        },
        {
          "name": "stderr",
          "output_type": "stream",
          "text": [
            "101it [01:13,  1.33it/s]"
          ]
        },
        {
          "name": "stdout",
          "output_type": "stream",
          "text": [
            "Epoch [15/15], Step [100/678], Loss: 0.0341\n"
          ]
        },
        {
          "name": "stderr",
          "output_type": "stream",
          "text": [
            "121it [01:27,  1.36it/s]"
          ]
        },
        {
          "name": "stdout",
          "output_type": "stream",
          "text": [
            "Epoch [15/15], Step [120/678], Loss: 0.1142\n"
          ]
        },
        {
          "name": "stderr",
          "output_type": "stream",
          "text": [
            "141it [01:42,  1.36it/s]"
          ]
        },
        {
          "name": "stdout",
          "output_type": "stream",
          "text": [
            "Epoch [15/15], Step [140/678], Loss: 0.1286\n"
          ]
        },
        {
          "name": "stderr",
          "output_type": "stream",
          "text": [
            "161it [01:57,  1.35it/s]"
          ]
        },
        {
          "name": "stdout",
          "output_type": "stream",
          "text": [
            "Epoch [15/15], Step [160/678], Loss: 0.0923\n"
          ]
        },
        {
          "name": "stderr",
          "output_type": "stream",
          "text": [
            "181it [02:12,  1.30it/s]"
          ]
        },
        {
          "name": "stdout",
          "output_type": "stream",
          "text": [
            "Epoch [15/15], Step [180/678], Loss: 0.0770\n"
          ]
        },
        {
          "name": "stderr",
          "output_type": "stream",
          "text": [
            "201it [02:27,  1.34it/s]"
          ]
        },
        {
          "name": "stdout",
          "output_type": "stream",
          "text": [
            "Epoch [15/15], Step [200/678], Loss: 0.0860\n"
          ]
        },
        {
          "name": "stderr",
          "output_type": "stream",
          "text": [
            "221it [02:42,  1.38it/s]"
          ]
        },
        {
          "name": "stdout",
          "output_type": "stream",
          "text": [
            "Epoch [15/15], Step [220/678], Loss: 0.0984\n"
          ]
        },
        {
          "name": "stderr",
          "output_type": "stream",
          "text": [
            "241it [02:56,  1.37it/s]"
          ]
        },
        {
          "name": "stdout",
          "output_type": "stream",
          "text": [
            "Epoch [15/15], Step [240/678], Loss: 0.0479\n"
          ]
        },
        {
          "name": "stderr",
          "output_type": "stream",
          "text": [
            "261it [03:11,  1.37it/s]"
          ]
        },
        {
          "name": "stdout",
          "output_type": "stream",
          "text": [
            "Epoch [15/15], Step [260/678], Loss: 0.0740\n"
          ]
        },
        {
          "name": "stderr",
          "output_type": "stream",
          "text": [
            "281it [03:25,  1.42it/s]"
          ]
        },
        {
          "name": "stdout",
          "output_type": "stream",
          "text": [
            "Epoch [15/15], Step [280/678], Loss: 0.0952\n"
          ]
        },
        {
          "name": "stderr",
          "output_type": "stream",
          "text": [
            "301it [03:40,  1.27it/s]"
          ]
        },
        {
          "name": "stdout",
          "output_type": "stream",
          "text": [
            "Epoch [15/15], Step [300/678], Loss: 0.1184\n"
          ]
        },
        {
          "name": "stderr",
          "output_type": "stream",
          "text": [
            "321it [03:54,  1.45it/s]"
          ]
        },
        {
          "name": "stdout",
          "output_type": "stream",
          "text": [
            "Epoch [15/15], Step [320/678], Loss: 0.1480\n"
          ]
        },
        {
          "name": "stderr",
          "output_type": "stream",
          "text": [
            "341it [04:08,  1.34it/s]"
          ]
        },
        {
          "name": "stdout",
          "output_type": "stream",
          "text": [
            "Epoch [15/15], Step [340/678], Loss: 0.0685\n"
          ]
        },
        {
          "name": "stderr",
          "output_type": "stream",
          "text": [
            "361it [04:23,  1.41it/s]"
          ]
        },
        {
          "name": "stdout",
          "output_type": "stream",
          "text": [
            "Epoch [15/15], Step [360/678], Loss: 0.0806\n"
          ]
        },
        {
          "name": "stderr",
          "output_type": "stream",
          "text": [
            "381it [04:37,  1.44it/s]"
          ]
        },
        {
          "name": "stdout",
          "output_type": "stream",
          "text": [
            "Epoch [15/15], Step [380/678], Loss: 0.1489\n"
          ]
        },
        {
          "name": "stderr",
          "output_type": "stream",
          "text": [
            "401it [04:52,  1.41it/s]"
          ]
        },
        {
          "name": "stdout",
          "output_type": "stream",
          "text": [
            "Epoch [15/15], Step [400/678], Loss: 0.1055\n"
          ]
        },
        {
          "name": "stderr",
          "output_type": "stream",
          "text": [
            "421it [05:06,  1.41it/s]"
          ]
        },
        {
          "name": "stdout",
          "output_type": "stream",
          "text": [
            "Epoch [15/15], Step [420/678], Loss: 0.1691\n"
          ]
        },
        {
          "name": "stderr",
          "output_type": "stream",
          "text": [
            "441it [05:21,  1.41it/s]"
          ]
        },
        {
          "name": "stdout",
          "output_type": "stream",
          "text": [
            "Epoch [15/15], Step [440/678], Loss: 0.1380\n"
          ]
        },
        {
          "name": "stderr",
          "output_type": "stream",
          "text": [
            "461it [05:35,  1.41it/s]"
          ]
        },
        {
          "name": "stdout",
          "output_type": "stream",
          "text": [
            "Epoch [15/15], Step [460/678], Loss: 0.1400\n"
          ]
        },
        {
          "name": "stderr",
          "output_type": "stream",
          "text": [
            "481it [05:49,  1.41it/s]"
          ]
        },
        {
          "name": "stdout",
          "output_type": "stream",
          "text": [
            "Epoch [15/15], Step [480/678], Loss: 0.0810\n"
          ]
        },
        {
          "name": "stderr",
          "output_type": "stream",
          "text": [
            "501it [06:04,  1.40it/s]"
          ]
        },
        {
          "name": "stdout",
          "output_type": "stream",
          "text": [
            "Epoch [15/15], Step [500/678], Loss: 0.0642\n"
          ]
        },
        {
          "name": "stderr",
          "output_type": "stream",
          "text": [
            "521it [06:18,  1.36it/s]"
          ]
        },
        {
          "name": "stdout",
          "output_type": "stream",
          "text": [
            "Epoch [15/15], Step [520/678], Loss: 0.1609\n"
          ]
        },
        {
          "name": "stderr",
          "output_type": "stream",
          "text": [
            "541it [06:32,  1.42it/s]"
          ]
        },
        {
          "name": "stdout",
          "output_type": "stream",
          "text": [
            "Epoch [15/15], Step [540/678], Loss: 0.1104\n"
          ]
        },
        {
          "name": "stderr",
          "output_type": "stream",
          "text": [
            "561it [06:47,  1.19it/s]"
          ]
        },
        {
          "name": "stdout",
          "output_type": "stream",
          "text": [
            "Epoch [15/15], Step [560/678], Loss: 0.1106\n"
          ]
        },
        {
          "name": "stderr",
          "output_type": "stream",
          "text": [
            "581it [07:02,  1.43it/s]"
          ]
        },
        {
          "name": "stdout",
          "output_type": "stream",
          "text": [
            "Epoch [15/15], Step [580/678], Loss: 0.1860\n"
          ]
        },
        {
          "name": "stderr",
          "output_type": "stream",
          "text": [
            "601it [07:16,  1.43it/s]"
          ]
        },
        {
          "name": "stdout",
          "output_type": "stream",
          "text": [
            "Epoch [15/15], Step [600/678], Loss: 0.1314\n"
          ]
        },
        {
          "name": "stderr",
          "output_type": "stream",
          "text": [
            "621it [07:31,  1.37it/s]"
          ]
        },
        {
          "name": "stdout",
          "output_type": "stream",
          "text": [
            "Epoch [15/15], Step [620/678], Loss: 0.1165\n"
          ]
        },
        {
          "name": "stderr",
          "output_type": "stream",
          "text": [
            "641it [07:45,  1.36it/s]"
          ]
        },
        {
          "name": "stdout",
          "output_type": "stream",
          "text": [
            "Epoch [15/15], Step [640/678], Loss: 0.1150\n"
          ]
        },
        {
          "name": "stderr",
          "output_type": "stream",
          "text": [
            "661it [08:00,  1.45it/s]"
          ]
        },
        {
          "name": "stdout",
          "output_type": "stream",
          "text": [
            "Epoch [15/15], Step [660/678], Loss: 0.1128\n"
          ]
        },
        {
          "name": "stderr",
          "output_type": "stream",
          "text": [
            "678it [08:11,  1.38it/s]\n"
          ]
        },
        {
          "name": "stdout",
          "output_type": "stream",
          "text": [
            "\n",
            "train-loss: 0.3765, train-acc: 96.3536\n"
          ]
        },
        {
          "name": "stderr",
          "output_type": "stream",
          "text": [
            "100%|██████████| 86/86 [00:41<00:00,  2.08it/s]"
          ]
        },
        {
          "name": "stdout",
          "output_type": "stream",
          "text": [
            "validation loss: 1.1725, validation acc: 66.8432\n",
            "\n"
          ]
        },
        {
          "name": "stderr",
          "output_type": "stream",
          "text": [
            "\n"
          ]
        }
      ],
      "source": [
        "n_epochs = 15\n",
        "print_every = 10\n",
        "valid_loss_min = np.Inf\n",
        "val_loss = []\n",
        "val_acc = []\n",
        "train_loss = []\n",
        "train_acc = []\n",
        "total_step = len(train_dataloader)\n",
        "for epoch in range(1, n_epochs+1):\n",
        "    running_loss = 0.0\n",
        "    correct = 0\n",
        "    total=0\n",
        "    print(f'Epoch {epoch}\\n')\n",
        "    for batch_idx, (data_, target_) in tqdm(enumerate(train_dataloader)):\n",
        "        data_, target_ = data_.to(device), target_.to(device)\n",
        "        optimizer.zero_grad()\n",
        "        \n",
        "        outputs = net(data_)\n",
        "        loss = criterion(outputs, target_)\n",
        "        loss.backward()\n",
        "        optimizer.step()\n",
        "\n",
        "        running_loss += loss.item()\n",
        "        _,pred = torch.max(outputs, dim=1)\n",
        "        correct += torch.sum(pred==target_).item()\n",
        "        total += target_.size(0)\n",
        "        if (batch_idx) % 20 == 0:\n",
        "            print ('Epoch [{}/{}], Step [{}/{}], Loss: {:.4f}' \n",
        "                   .format(epoch, n_epochs, batch_idx, total_step, loss.item()))\n",
        "    writer.add_scalar(\"Loss/train\", running_loss/total_step, epoch)\n",
        "    train_acc.append(100 * correct / total)\n",
        "    train_loss.append(running_loss/total_step)\n",
        "    print(f'\\ntrain-loss: {np.mean(train_loss):.4f}, train-acc: {(100 * correct/total):.4f}')\n",
        "    batch_loss = 0\n",
        "    total_t=0\n",
        "    correct_t=0\n",
        "    with torch.no_grad():\n",
        "        net.eval()\n",
        "        for data_t, target_t in tqdm((test_dataloader)):\n",
        "            data_t, target_t = data_t.to(device), target_t.to(device)\n",
        "            outputs_t = net(data_t)\n",
        "            loss_t = criterion(outputs_t, target_t)\n",
        "            batch_loss += loss_t.item()\n",
        "            _,pred_t = torch.max(outputs_t, dim=1)\n",
        "            correct_t += torch.sum(pred_t==target_t).item()\n",
        "            total_t += target_t.size(0)\n",
        "        val_acc.append(100 * correct_t/total_t)\n",
        "        val_loss.append(batch_loss/len(test_dataloader))\n",
        "        writer_val.add_scalar(\"Loss/val\", batch_loss/len(test_dataloader), epoch)\n",
        "        network_learned = batch_loss < valid_loss_min\n",
        "        print(f'validation loss: {np.mean(val_loss):.4f}, validation acc: {(100 * correct_t/total_t):.4f}\\n')\n",
        "\n",
        "        \n",
        "        if network_learned:\n",
        "            valid_loss_min = batch_loss\n",
        "            torch.save(net.state_dict(), 'resnet34_00009lr_full.pt')\n",
        "            # torch.save(net, os.path.join(models_path, \"resnet34_best.pth\"))\n",
        "            print('Improvement-Detected, save-model')\n",
        "    net.train()"
      ]
    },
    {
      "cell_type": "code",
      "execution_count": null,
      "id": "440d9deb",
      "metadata": {
        "execution": {
          "iopub.execute_input": "2022-11-10T08:14:12.333791Z",
          "iopub.status.busy": "2022-11-10T08:14:12.333442Z",
          "iopub.status.idle": "2022-11-10T08:14:12.337708Z",
          "shell.execute_reply": "2022-11-10T08:14:12.336699Z"
        },
        "papermill": {
          "duration": 0.607084,
          "end_time": "2022-11-10T08:14:12.339720",
          "exception": false,
          "start_time": "2022-11-10T08:14:11.732636",
          "status": "completed"
        },
        "tags": [],
        "id": "440d9deb"
      },
      "outputs": [],
      "source": [
        "# model_ft = train_model(model_ft, dataloaders, criterion, optimizer_ft, exp_lr_scheduler,\n",
        "#                        dataset_sizes, num_epochs=25)\n",
        "# writer.flush()"
      ]
    },
    {
      "cell_type": "code",
      "execution_count": null,
      "id": "40e9b295",
      "metadata": {
        "execution": {
          "iopub.execute_input": "2022-11-10T08:14:13.624605Z",
          "iopub.status.busy": "2022-11-10T08:14:13.624251Z",
          "iopub.status.idle": "2022-11-10T08:14:13.935345Z",
          "shell.execute_reply": "2022-11-10T08:14:13.934423Z"
        },
        "papermill": {
          "duration": 0.91478,
          "end_time": "2022-11-10T08:14:13.937667",
          "exception": false,
          "start_time": "2022-11-10T08:14:13.022887",
          "status": "completed"
        },
        "tags": [],
        "id": "40e9b295",
        "outputId": "b5c22c1c-c0eb-4a4a-f1f0-fb5a1c239417"
      },
      "outputs": [
        {
          "data": {
            "text/plain": [
              "<matplotlib.legend.Legend at 0x7fe529c95910>"
            ]
          },
          "execution_count": 14,
          "metadata": {},
          "output_type": "execute_result"
        },
        {
          "data": {
            "image/png": "[encoded data removed]",
            "text/plain": [
              "<Figure size 1440x720 with 1 Axes>"
            ]
          },
          "metadata": {
            "needs_background": "light"
          },
          "output_type": "display_data"
        }
      ],
      "source": [
        "fig = plt.figure(figsize=(20,10))\n",
        "plt.title(\"Train-Validation Accuracy\")\n",
        "plt.plot(train_acc, label='train')\n",
        "plt.plot(val_acc, label='validation')\n",
        "plt.xlabel('num_epochs', fontsize=12)\n",
        "plt.ylabel('accuracy', fontsize=12)\n",
        "plt.legend(loc='best')"
      ]
    },
    {
      "cell_type": "code",
      "execution_count": null,
      "id": "d9a3f01b",
      "metadata": {
        "execution": {
          "iopub.execute_input": "2022-11-10T08:14:15.380283Z",
          "iopub.status.busy": "2022-11-10T08:14:15.379889Z",
          "iopub.status.idle": "2022-11-10T08:14:15.654792Z",
          "shell.execute_reply": "2022-11-10T08:14:15.653865Z"
        },
        "papermill": {
          "duration": 1.05762,
          "end_time": "2022-11-10T08:14:15.656919",
          "exception": false,
          "start_time": "2022-11-10T08:14:14.599299",
          "status": "completed"
        },
        "tags": [],
        "id": "d9a3f01b",
        "outputId": "cf43bcb9-b05a-4cb6-c16e-103336aad3ef"
      },
      "outputs": [
        {
          "data": {
            "text/plain": [
              "<matplotlib.legend.Legend at 0x7fe529b8f810>"
            ]
          },
          "execution_count": 15,
          "metadata": {},
          "output_type": "execute_result"
        },
        {
          "data": {
            "image/png": "[encoded data removed]",
            "text/plain": [
              "<Figure size 1440x720 with 1 Axes>"
            ]
          },
          "metadata": {
            "needs_background": "light"
          },
          "output_type": "display_data"
        }
      ],
      "source": [
        "fig = plt.figure(figsize=(20,10))\n",
        "plt.title(\"Train-Validation loss\")\n",
        "plt.plot(train_loss, label='train')\n",
        "plt.plot(val_loss, label='validation')\n",
        "plt.xlabel('num_epochs', fontsize=12)\n",
        "plt.ylabel('loss', fontsize=12)\n",
        "plt.legend(loc='best')"
      ]
    }
  ],
  "metadata": {
    "kernelspec": {
      "display_name": "Python 3",
      "language": "python",
      "name": "python3"
    },
    "language_info": {
      "codemirror_mode": {
        "name": "ipython",
        "version": 3
      },
      "file_extension": ".py",
      "mimetype": "text/x-python",
      "name": "python",
      "nbconvert_exporter": "python",
      "pygments_lexer": "ipython3",
      "version": "3.7.12"
    },
    "papermill": {
      "default_parameters": {},
      "duration": 8535.412723,
      "end_time": "2022-11-10T08:14:19.585679",
      "environment_variables": {},
      "exception": null,
      "input_path": "__notebook__.ipynb",
      "output_path": "__notebook__.ipynb",
      "parameters": {},
      "start_time": "2022-11-10T05:52:04.172956",
      "version": "2.3.4"
    },
    "widgets": {
      "application/vnd.jupyter.widget-state+json": {}
    },
    "colab": {
      "provenance": []
    }
  },
  "nbformat": 4,
  "nbformat_minor": 5
}